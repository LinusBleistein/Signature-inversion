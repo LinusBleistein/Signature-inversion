{
 "cells": [
  {
   "cell_type": "markdown",
   "metadata": {},
   "source": [
    "# Insertion algorithm "
   ]
  },
  {
   "cell_type": "code",
   "execution_count": null,
   "metadata": {},
   "outputs": [],
   "source": [
    "%matplotlib inline\n",
    "\n",
    "import torch\n",
    "import numpy as np\n",
    "import signatory\n",
    "import math\n",
    "\n",
    "import matplotlib.pyplot as plt\n",
    "import matplotlib\n",
    "import seaborn as sns\n",
    "from insertion import Insertion, get_A_matrix, solve_optimization_problem,invert_signature\n",
    "from tools import get_signature_as_tensor\n"
   ]
  },
  {
   "cell_type": "code",
   "execution_count": null,
   "metadata": {},
   "outputs": [],
   "source": [
    "test_tensor = torch.rand((3,3,3))\n",
    "print(test_tensor[0,1,2])"
   ]
  },
  {
   "cell_type": "markdown",
   "metadata": {},
   "source": [
    "## Insertion operator "
   ]
  },
  {
   "cell_type": "code",
   "execution_count": null,
   "metadata": {},
   "outputs": [],
   "source": [
    "test_path = torch.rand((1,10,5))\n",
    "signature_test = signatory.signature(test_path, 2)\n",
    "get_signature_as_tensor(signature_test,5,2)"
   ]
  },
  {
   "cell_type": "code",
   "execution_count": null,
   "metadata": {},
   "outputs": [],
   "source": [
    "x=[1,2,3,4,5]\n",
    "\n",
    "p=3\n",
    "\n",
    "n=2\n",
    "\n",
    "dimension=5\n",
    "\n",
    "Insertion(p,n,x,signature_test,dimension)"
   ]
  },
  {
   "cell_type": "code",
   "execution_count": null,
   "metadata": {},
   "outputs": [],
   "source": [
    "dimension=4\n",
    "test_path = torch.rand((1,10,dimension))\n",
    "n=3\n",
    "signature_test = signatory.signature(test_path, n)\n",
    "last_signature_term = get_signature_as_tensor(signature_test,dimension,n)[\"Depth \"+ str(n)]\n",
    "p=3\n",
    "\n",
    "# Test if A has the right structure: A^TA should be diagonal with same values in the diagonal.\n",
    "A_matrix=get_A_matrix(p,signature_test,n,dimension)\n",
    "print(np.matmul(np.transpose(A_matrix),A_matrix))"
   ]
  },
  {
   "cell_type": "code",
   "execution_count": null,
   "metadata": {},
   "outputs": [],
   "source": [
    "signature = signatory.signature(test_path, 2)\n",
    "signature_next = signatory.signature(test_path,3)\n",
    "\n",
    "solve_optimization_problem(signature, signature_next,p=2,n=2,dimension=2)"
   ]
  },
  {
   "cell_type": "markdown",
   "metadata": {},
   "source": [
    "## Tests"
   ]
  },
  {
   "cell_type": "markdown",
   "metadata": {},
   "source": [
    "### Tests on semi-circle "
   ]
  },
  {
   "cell_type": "code",
   "execution_count": null,
   "metadata": {},
   "outputs": [],
   "source": [
    "points = np.arange(0,1.1,0.1)\n",
    "\n",
    "print(points)\n",
    "\n",
    "x1 = 1/(math.pi)*np.cos(math.pi*points)\n",
    "\n",
    "x2 = 1/(math.pi)*np.sin(math.pi*points)\n",
    "\n",
    "sns.set_style('whitegrid')\n",
    "\n",
    "plt.plot(x1,x2,linestyle='-',marker='o')\n",
    "plt.show()"
   ]
  },
  {
   "cell_type": "code",
   "execution_count": null,
   "metadata": {},
   "outputs": [],
   "source": [
    "path = torch.tensor(np.array((x1,x2)).T)\n",
    "n=4\n",
    "\n",
    "signature = signatory.signature(path.unsqueeze(0), n+1)\n",
    "\n",
    "reconstructed_path=invert_signature(signature,n,path[0,:],2)\n",
    "plt.plot(reconstructed_path[:,0],reconstructed_path[:,1],c='blue',marker='o')\n",
    "plt.plot(path[:,0],path[:,1],linestyle='-',marker='o',c='yellow')\n",
    "plt.show()\n",
    "\n",
    "    "
   ]
  },
  {
   "cell_type": "markdown",
   "metadata": {},
   "source": [
    "## Pendigits example"
   ]
  },
  {
   "cell_type": "code",
   "execution_count": null,
   "metadata": {},
   "outputs": [],
   "source": [
    "from get_data import get_pendigits\n",
    "\n",
    "X,y=get_pendigits()"
   ]
  },
  {
   "cell_type": "code",
   "execution_count": null,
   "metadata": {},
   "outputs": [],
   "source": [
    "path=torch.tensor(X[0,:,:])/100\n",
    "\n",
    "plt.plot(path[:,0],path[:,1])"
   ]
  },
  {
   "cell_type": "code",
   "execution_count": null,
   "metadata": {},
   "outputs": [],
   "source": [
    "n=9\n",
    "print(path.shape)\n",
    "\n",
    "signature = signatory.signature(path.unsqueeze(0), n+1)\n",
    "\n",
    "reconstructed_path=invert_signature(signature,n,path[0,:],2)\n",
    "\n",
    "plt.plot(reconstructed_path[:,0],reconstructed_path[:,1],c='blue',marker='o')\n",
    "#plt.plot(path[:,0],path[:,1],linestyle='-',marker='o',c='yellow')\n",
    "plt.show()\n",
    "    "
   ]
  },
  {
   "cell_type": "code",
   "execution_count": null,
   "metadata": {},
   "outputs": [],
   "source": []
  }
 ],
 "metadata": {
  "kernelspec": {
   "display_name": "Python 3",
   "language": "python",
   "name": "python3"
  },
  "language_info": {
   "codemirror_mode": {
    "name": "ipython",
    "version": 3
   },
   "file_extension": ".py",
   "mimetype": "text/x-python",
   "name": "python",
   "nbconvert_exporter": "python",
   "pygments_lexer": "ipython3",
   "version": "3.7.7"
  }
 },
 "nbformat": 4,
 "nbformat_minor": 4
}
