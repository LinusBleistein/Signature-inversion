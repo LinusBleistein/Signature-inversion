{
 "cells": [
  {
   "cell_type": "markdown",
   "metadata": {},
   "source": [
    "# Insertion algorithm "
   ]
  },
  {
   "cell_type": "code",
   "execution_count": 1,
   "metadata": {
    "collapsed": false
   },
   "outputs": [],
   "source": [
    "%matplotlib inline\n",
    "\n",
    "import torch\n",
    "import numpy as np\n",
    "import signatory\n",
    "import math\n",
    "\n",
    "import matplotlib.pyplot as plt\n",
    "import matplotlib\n",
    "import seaborn as sns\n",
    "from insertion import Insertion, get_A_matrix, solve_optimization_problem,invert_signature\n",
    "from tools import get_signature_as_tensor\n"
   ]
  },
  {
   "cell_type": "code",
   "execution_count": 2,
   "metadata": {
    "collapsed": false
   },
   "outputs": [
    {
     "name": "stdout",
     "output_type": "stream",
     "text": [
      "tensor(0.4366)\n"
     ]
    }
   ],
   "source": [
    "test_tensor = torch.rand((3,3,3))\n",
    "print(test_tensor[0,1,2])"
   ]
  },
  {
   "cell_type": "markdown",
   "metadata": {},
   "source": [
    "## Insertion operator "
   ]
  },
  {
   "cell_type": "code",
   "execution_count": 3,
   "metadata": {
    "collapsed": false
   },
   "outputs": [
    {
     "data": {
      "text/plain": [
       "{'Depth 1': tensor([-0.5264, -0.1974,  0.4373,  0.1501,  0.0898]),\n",
       " 'Depth 2': tensor([[ 0.1386,  0.0043,  0.0114, -0.0120, -0.1043],\n",
       "         [ 0.0996,  0.0195, -0.2030, -0.2768, -0.1498],\n",
       "         [-0.2416,  0.1167,  0.0956,  0.1701,  0.2572],\n",
       "         [-0.0670,  0.2472, -0.1044,  0.0113,  0.2621],\n",
       "         [ 0.0570,  0.1321, -0.2179, -0.2486,  0.0040]])}"
      ]
     },
     "execution_count": 3,
     "metadata": {},
     "output_type": "execute_result"
    }
   ],
   "source": [
    "test_path = torch.rand((1,10,5))\n",
    "signature_test = signatory.signature(test_path, 2)\n",
    "get_signature_as_tensor(signature_test,5,2)"
   ]
  },
  {
   "cell_type": "code",
   "execution_count": 4,
   "metadata": {
    "collapsed": false
   },
   "outputs": [
    {
     "data": {
      "text/plain": [
       "tensor([[[ 0.2771,  0.5543,  0.8314,  1.1086,  1.3857],\n",
       "         [ 0.0086,  0.0173,  0.0259,  0.0346,  0.0432],\n",
       "         [ 0.0227,  0.0454,  0.0682,  0.0909,  0.1136],\n",
       "         [-0.0240, -0.0480, -0.0719, -0.0959, -0.1199],\n",
       "         [-0.2086, -0.4172, -0.6257, -0.8343, -1.0429]],\n",
       "\n",
       "        [[ 0.1992,  0.3984,  0.5975,  0.7967,  0.9959],\n",
       "         [ 0.0390,  0.0779,  0.1169,  0.1558,  0.1948],\n",
       "         [-0.4060, -0.8120, -1.2180, -1.6240, -2.0300],\n",
       "         [-0.5536, -1.1071, -1.6607, -2.2142, -2.7678],\n",
       "         [-0.2996, -0.5991, -0.8987, -1.1983, -1.4978]],\n",
       "\n",
       "        [[-0.4831, -0.9663, -1.4494, -1.9325, -2.4157],\n",
       "         [ 0.2334,  0.4667,  0.7001,  0.9335,  1.1669],\n",
       "         [ 0.1912,  0.3824,  0.5737,  0.7649,  0.9561],\n",
       "         [ 0.3402,  0.6803,  1.0205,  1.3606,  1.7008],\n",
       "         [ 0.5144,  1.0288,  1.5433,  2.0577,  2.5721]],\n",
       "\n",
       "        [[-0.1341, -0.2681, -0.4022, -0.5362, -0.6703],\n",
       "         [ 0.4943,  0.9886,  1.4829,  1.9772,  2.4715],\n",
       "         [-0.2089, -0.4178, -0.6266, -0.8355, -1.0444],\n",
       "         [ 0.0225,  0.0451,  0.0676,  0.0901,  0.1126],\n",
       "         [ 0.5241,  1.0482,  1.5723,  2.0964,  2.6206]],\n",
       "\n",
       "        [[ 0.1140,  0.2280,  0.3420,  0.4559,  0.5699],\n",
       "         [ 0.2641,  0.5282,  0.7923,  1.0564,  1.3205],\n",
       "         [-0.4358, -0.8717, -1.3075, -1.7434, -2.1792],\n",
       "         [-0.4971, -0.9943, -1.4914, -1.9886, -2.4857],\n",
       "         [ 0.0081,  0.0161,  0.0242,  0.0323,  0.0404]]])"
      ]
     },
     "execution_count": 4,
     "metadata": {},
     "output_type": "execute_result"
    }
   ],
   "source": [
    "x=[1,2,3,4,5]\n",
    "\n",
    "p=3\n",
    "\n",
    "n=2\n",
    "\n",
    "dimension=5\n",
    "\n",
    "Insertion(p,n,x,signature_test,dimension)"
   ]
  },
  {
   "cell_type": "code",
   "execution_count": 5,
   "metadata": {
    "collapsed": false
   },
   "outputs": [
    {
     "name": "stdout",
     "output_type": "stream",
     "text": [
      "tensor([[12.4774,  0.0000,  0.0000,  0.0000],\n",
      "        [ 0.0000, 12.4774,  0.0000,  0.0000],\n",
      "        [ 0.0000,  0.0000, 12.4774,  0.0000],\n",
      "        [ 0.0000,  0.0000,  0.0000, 12.4774]], dtype=torch.float64)\n"
     ]
    }
   ],
   "source": [
    "dimension=4\n",
    "test_path = torch.rand((1,10,dimension))\n",
    "n=3\n",
    "signature_test = signatory.signature(test_path, n)\n",
    "last_signature_term = get_signature_as_tensor(signature_test,dimension,n)[\"Depth \"+ str(n)]\n",
    "p=3\n",
    "\n",
    "# Test if A has the right structure: A^TA should be diagonal with same values in the diagonal.\n",
    "A_matrix=get_A_matrix(p,signature_test,n,dimension)\n",
    "print(np.matmul(np.transpose(A_matrix),A_matrix))"
   ]
  },
  {
   "cell_type": "code",
   "execution_count": 6,
   "metadata": {
    "collapsed": false
   },
   "outputs": [
    {
     "name": "stdout",
     "output_type": "stream",
     "text": [
      "Elapsed time for getting A 0.002074718475341797\n",
      "Elapsed time for svd 8.916854858398438e-05\n"
     ]
    },
    {
     "data": {
      "text/plain": [
       "array([0.98000198, 0.19898774])"
      ]
     },
     "execution_count": 6,
     "metadata": {},
     "output_type": "execute_result"
    }
   ],
   "source": [
    "signature = signatory.signature(test_path, 2)\n",
    "signature_next = signatory.signature(test_path,3)\n",
    "\n",
    "solve_optimization_problem(signature, signature_next,p=2,n=2,dimension=2)"
   ]
  },
  {
   "cell_type": "markdown",
   "metadata": {},
   "source": [
    "## Tests"
   ]
  },
  {
   "cell_type": "markdown",
   "metadata": {},
   "source": [
    "### Tests on semi-circle "
   ]
  },
  {
   "cell_type": "code",
   "execution_count": 7,
   "metadata": {
    "collapsed": false
   },
   "outputs": [
    {
     "name": "stdout",
     "output_type": "stream",
     "text": [
      "[0.  0.1 0.2 0.3 0.4 0.5 0.6 0.7 0.8 0.9 1. ]\n"
     ]
    },
    {
     "data": {
      "image/png": "[encoded data removed]",
      "text/plain": [
       "<Figure size 432x288 with 1 Axes>"
      ]
     },
     "metadata": {},
     "output_type": "display_data"
    }
   ],
   "source": [
    "points = np.arange(0,1.1,0.1)\n",
    "\n",
    "print(points)\n",
    "\n",
    "x1 = 1/(math.pi)*np.cos(math.pi*points)\n",
    "\n",
    "x2 = 1/(math.pi)*np.sin(math.pi*points)\n",
    "\n",
    "sns.set_style('whitegrid')\n",
    "\n",
    "plt.plot(x1,x2,linestyle='-',marker='o')\n",
    "plt.show()"
   ]
  },
  {
   "cell_type": "code",
   "execution_count": 8,
   "metadata": {
    "collapsed": false
   },
   "outputs": [
    {
     "name": "stdout",
     "output_type": "stream",
     "text": [
      "Elapsed time for getting A 0.01708388328552246\n",
      "Elapsed time for svd 8.821487426757812e-05\n",
      "Elapsed time for getting A 0.004425048828125\n",
      "Elapsed time for svd 0.00010013580322265625\n",
      "Elapsed time for getting A 0.0033462047576904297\n",
      "Elapsed time for svd 7.295608520507812e-05\n",
      "Elapsed time for getting A 0.006808280944824219\n",
      "Elapsed time for svd 0.00010323524475097656\n",
      "Elapsed time for getting A 0.003072023391723633\n",
      "Elapsed time for svd 5.507469177246094e-05\n"
     ]
    },
    {
     "data": {
      "image/png": "[encoded data removed]",
      "text/plain": [
       "<Figure size 432x288 with 1 Axes>"
      ]
     },
     "metadata": {},
     "output_type": "display_data"
    }
   ],
   "source": [
    "path = torch.tensor(np.array((x1,x2)).T)\n",
    "n=4\n",
    "\n",
    "signature = signatory.signature(path.unsqueeze(0), n+1)\n",
    "\n",
    "reconstructed_path=invert_signature(signature,n,path[0,:],2)\n",
    "plt.plot(reconstructed_path[:,0],reconstructed_path[:,1],c='blue',marker='o')\n",
    "plt.plot(path[:,0],path[:,1],linestyle='-',marker='o',c='yellow')\n",
    "plt.show()\n",
    "\n",
    "    "
   ]
  },
  {
   "cell_type": "markdown",
   "metadata": {},
   "source": [
    "## Pendigits example"
   ]
  },
  {
   "cell_type": "code",
   "execution_count": 9,
   "metadata": {
    "collapsed": false
   },
   "outputs": [
    {
     "name": "stdout",
     "output_type": "stream",
     "text": [
      "3.8.3\n"
     ]
    }
   ],
   "source": [
    "from platform import python_version\n",
    "\n",
    "print(python_version())"
   ]
  },
  {
   "cell_type": "code",
   "execution_count": 10,
   "metadata": {
    "collapsed": false
   },
   "outputs": [],
   "source": [
    "from get_data import get_pendigits\n",
    "\n",
    "X,y=get_pendigits()"
   ]
  },
  {
   "cell_type": "code",
   "execution_count": 11,
   "metadata": {
    "collapsed": false
   },
   "outputs": [
    {
     "data": {
      "text/plain": [
       "[<matplotlib.lines.Line2D at 0x132bbc3d0>]"
      ]
     },
     "execution_count": 11,
     "metadata": {},
     "output_type": "execute_result"
    },
    {
     "data": {
      "image/png": "[encoded data removed]",
      "text/plain": [
       "<Figure size 432x288 with 1 Axes>"
      ]
     },
     "metadata": {},
     "output_type": "display_data"
    }
   ],
   "source": [
    "path=torch.tensor(X[0,:,:])/100\n",
    "\n",
    "plt.plot(path[:,0],path[:,1])"
   ]
  },
  {
   "cell_type": "code",
   "execution_count": 12,
   "metadata": {
    "collapsed": false
   },
   "outputs": [
    {
     "name": "stdout",
     "output_type": "stream",
     "text": [
      "torch.Size([8, 2])\n",
      "Elapsed time for getting A 1.0010027885437012\n",
      "Elapsed time for svd 1.723707914352417\n",
      "Elapsed time for getting A 0.9734029769897461\n",
      "Elapsed time for svd 1.485705852508545\n",
      "Elapsed time for getting A 0.9264781475067139\n",
      "Elapsed time for svd 1.4022982120513916\n",
      "Elapsed time for getting A 0.9298171997070312\n",
      "Elapsed time for svd 1.4165480136871338\n",
      "Elapsed time for getting A 0.9289910793304443\n",
      "Elapsed time for svd 1.4650356769561768\n",
      "Elapsed time for getting A 0.9126219749450684\n",
      "Elapsed time for svd 1.4112439155578613\n",
      "Elapsed time for getting A 0.9193017482757568\n",
      "Elapsed time for svd 1.425126075744629\n",
      "Elapsed time for getting A 0.9107599258422852\n",
      "Elapsed time for svd 1.4190828800201416\n",
      "Elapsed time for getting A 0.914740800857544\n",
      "Elapsed time for svd 1.4108920097351074\n",
      "Elapsed time for getting A 1.0407779216766357\n",
      "Elapsed time for svd 1.5498318672180176\n",
      "Elapsed time for getting A 0.9249060153961182\n",
      "Elapsed time for svd 1.447953224182129\n",
      "Elapsed time for getting A 0.9328751564025879\n",
      "Elapsed time for svd 1.43294095993042\n",
      "Elapsed time for getting A 0.9335029125213623\n",
      "Elapsed time for svd 1.4086778163909912\n"
     ]
    },
    {
     "data": {
      "image/png": "[encoded data removed]",
      "text/plain": [
       "<Figure size 432x288 with 1 Axes>"
      ]
     },
     "metadata": {},
     "output_type": "display_data"
    },
    {
     "name": "stdout",
     "output_type": "stream",
     "text": [
      "Elapsed time for signature\n",
      "0.003838777542114258\n",
      "Elapsed time for inversion\n",
      "31.906182765960693\n"
     ]
    }
   ],
   "source": [
    "import time\n",
    "\n",
    "n=12\n",
    "print(path.shape)\n",
    "\n",
    "t1 = time.time()\n",
    "signature = signatory.signature(path.unsqueeze(0), n+1)\n",
    "t2 = time.time() - t1\n",
    "\n",
    "t3 = time.time()\n",
    "reconstructed_path=invert_signature(signature,n,path[0,:],2)\n",
    "t4 = time.time() - t3\n",
    "\n",
    "plt.plot(reconstructed_path[:,0],reconstructed_path[:,1],c='blue',marker='o')\n",
    "#plt.plot(path[:,0],path[:,1],linestyle='-',marker='o',c='yellow')\n",
    "plt.show()\n",
    "\n",
    "print('Elapsed time for signature')\n",
    "print(t2)\n",
    "print('Elapsed time for inversion')\n",
    "print(t4)"
   ]
  },
  {
   "cell_type": "code",
   "execution_count": null,
   "metadata": {
    "collapsed": true
   },
   "outputs": [],
   "source": []
  }
 ],
 "metadata": {
  "anaconda-cloud": {},
  "kernelspec": {
   "display_name": "Python [conda env:py38]",
   "language": "python",
   "name": "conda-env-py38-py"
  },
  "language_info": {
   "codemirror_mode": {
    "name": "ipython",
    "version": 3
   },
   "file_extension": ".py",
   "mimetype": "text/x-python",
   "name": "python",
   "nbconvert_exporter": "python",
   "pygments_lexer": "ipython3",
   "version": "3.8.3"
  }
 },
 "nbformat": 4,
 "nbformat_minor": 4
}
