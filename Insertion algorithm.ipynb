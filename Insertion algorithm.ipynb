{
 "cells": [
  {
   "cell_type": "markdown",
   "metadata": {},
   "source": [
    "# Insertion algorithm "
   ]
  },
  {
   "cell_type": "code",
   "execution_count": 23,
   "metadata": {},
   "outputs": [],
   "source": [
    "%matplotlib inline\n",
    "\n",
    "import torch\n",
    "import numpy as np\n",
    "import signatory\n",
    "import math\n",
    "\n",
    "import matplotlib.pyplot as plt\n",
    "import matplotlib\n",
    "import seaborn as sns\n",
    "from insertion import Insertion, get_A_matrix, solve_optimization_problem\n",
    "from tools import get_signature_as_tensor\n"
   ]
  },
  {
   "cell_type": "code",
   "execution_count": 24,
   "metadata": {},
   "outputs": [
    {
     "name": "stdout",
     "output_type": "stream",
     "text": [
      "tensor(0.5661)\n"
     ]
    }
   ],
   "source": [
    "test_tensor = torch.rand((3,3,3))\n",
    "print(test_tensor[0,1,2])"
   ]
  },
  {
   "cell_type": "markdown",
   "metadata": {},
   "source": [
    "## Insertion operator "
   ]
  },
  {
   "cell_type": "code",
   "execution_count": 25,
   "metadata": {},
   "outputs": [
    {
     "data": {
      "text/plain": [
       "{'Depth 1': tensor([-0.0839,  0.4946,  0.4240,  0.1121, -0.2925]),\n",
       " 'Depth 2': tensor([[ 0.0035, -0.0484,  0.0622,  0.0428,  0.1848],\n",
       "         [ 0.0069,  0.1223,  0.3189, -0.0345, -0.1270],\n",
       "         [-0.0978, -0.1092,  0.0899,  0.1236, -0.2445],\n",
       "         [-0.0522,  0.0899, -0.0761,  0.0063, -0.1003],\n",
       "         [-0.1603, -0.0177,  0.1205,  0.0675,  0.0428]])}"
      ]
     },
     "execution_count": 25,
     "metadata": {},
     "output_type": "execute_result"
    }
   ],
   "source": [
    "test_path = torch.rand((1,10,5))\n",
    "signature_test = signatory.signature(test_path, 2)\n",
    "get_signature_as_tensor(signature_test,5,2)"
   ]
  },
  {
   "cell_type": "code",
   "execution_count": 26,
   "metadata": {},
   "outputs": [
    {
     "data": {
      "text/plain": [
       "tensor([[[ 0.0070,  0.0141,  0.0211,  0.0282,  0.0352],\n",
       "         [-0.0969, -0.1937, -0.2906, -0.3875, -0.4844],\n",
       "         [ 0.1243,  0.2487,  0.3730,  0.4974,  0.6217],\n",
       "         [ 0.0856,  0.1712,  0.2568,  0.3425,  0.4281],\n",
       "         [ 0.3697,  0.7394,  1.1090,  1.4787,  1.8484]],\n",
       "\n",
       "        [[ 0.0139,  0.0277,  0.0416,  0.0555,  0.0694],\n",
       "         [ 0.2447,  0.4893,  0.7340,  0.9787,  1.2234],\n",
       "         [ 0.6379,  1.2758,  1.9136,  2.5515,  3.1894],\n",
       "         [-0.0689, -0.1379, -0.2068, -0.2757, -0.3447],\n",
       "         [-0.2540, -0.5080, -0.7619, -1.0159, -1.2699]],\n",
       "\n",
       "        [[-0.1955, -0.3910, -0.5865, -0.7820, -0.9775],\n",
       "         [-0.2184, -0.4368, -0.6552, -0.8735, -1.0919],\n",
       "         [ 0.1798,  0.3596,  0.5394,  0.7192,  0.8990],\n",
       "         [ 0.2473,  0.4946,  0.7418,  0.9891,  1.2364],\n",
       "         [-0.4891, -0.9782, -1.4673, -1.9564, -2.4455]],\n",
       "\n",
       "        [[-0.1044, -0.2088, -0.3133, -0.4177, -0.5221],\n",
       "         [ 0.1798,  0.3596,  0.5395,  0.7193,  0.8991],\n",
       "         [-0.1522, -0.3044, -0.4566, -0.6089, -0.7611],\n",
       "         [ 0.0126,  0.0251,  0.0377,  0.0503,  0.0628],\n",
       "         [-0.2007, -0.4013, -0.6020, -0.8027, -1.0033]],\n",
       "\n",
       "        [[-0.3206, -0.6412, -0.9618, -1.2824, -1.6030],\n",
       "         [-0.0354, -0.0709, -0.1063, -0.1417, -0.1772],\n",
       "         [ 0.2410,  0.4820,  0.7230,  0.9640,  1.2050],\n",
       "         [ 0.1351,  0.2702,  0.4053,  0.5403,  0.6754],\n",
       "         [ 0.0856,  0.1712,  0.2567,  0.3423,  0.4279]]])"
      ]
     },
     "execution_count": 26,
     "metadata": {},
     "output_type": "execute_result"
    }
   ],
   "source": [
    "x=[1,2,3,4,5]\n",
    "\n",
    "p=3\n",
    "\n",
    "n=2\n",
    "\n",
    "dimension=5\n",
    "\n",
    "Insertion(p,n,x,signature_test,dimension)"
   ]
  },
  {
   "cell_type": "code",
   "execution_count": 27,
   "metadata": {},
   "outputs": [
    {
     "name": "stdout",
     "output_type": "stream",
     "text": [
      "[[23.52959059  0.          0.          0.        ]\n",
      " [ 0.         23.52959059  0.          0.        ]\n",
      " [ 0.          0.         23.52959059  0.        ]\n",
      " [ 0.          0.          0.         23.52959059]]\n"
     ]
    }
   ],
   "source": [
    "dimension=4\n",
    "test_path = torch.rand((1,10,dimension))\n",
    "n=3\n",
    "signature_test = signatory.signature(test_path, n)\n",
    "last_signature_term = get_signature_as_tensor(signature_test,dimension,n)[\"Depth \"+ str(n)]\n",
    "p=3\n",
    "\n",
    "# Test if A has the right structure: A^TA should be diagonal with same values in the diagonal.\n",
    "A_matrix=get_A_matrix(p,signature_test,n,dimension)\n",
    "print(np.matmul(np.transpose(A_matrix),A_matrix))"
   ]
  },
  {
   "cell_type": "code",
   "execution_count": 28,
   "metadata": {},
   "outputs": [
    {
     "data": {
      "text/plain": [
       "array([ 0.15781454, -0.98746877])"
      ]
     },
     "execution_count": 28,
     "metadata": {},
     "output_type": "execute_result"
    }
   ],
   "source": [
    "signature = signatory.signature(test_path, 2)\n",
    "signature_next = signatory.signature(test_path,3)\n",
    "\n",
    "solve_optimization_problem(signature, signature_next,p=2,n=2,dimension=2)"
   ]
  },
  {
   "cell_type": "markdown",
   "metadata": {},
   "source": [
    "## Tests"
   ]
  },
  {
   "cell_type": "markdown",
   "metadata": {},
   "source": [
    "### Tests on semi-circle "
   ]
  },
  {
   "cell_type": "code",
   "execution_count": 29,
   "metadata": {},
   "outputs": [
    {
     "name": "stdout",
     "output_type": "stream",
     "text": [
      "[0.  0.1 0.2 0.3 0.4 0.5 0.6 0.7 0.8 0.9 1. ]\n"
     ]
    },
    {
     "data": {
      "image/png": "[encoded data removed]",
      "text/plain": [
       "<Figure size 432x288 with 1 Axes>"
      ]
     },
     "metadata": {},
     "output_type": "display_data"
    }
   ],
   "source": [
    "points = np.arange(0,1.1,0.1)\n",
    "\n",
    "print(points)\n",
    "\n",
    "x1 = 1/(math.pi)*np.cos(math.pi*points)\n",
    "\n",
    "x2 = 1/(math.pi)*np.sin(math.pi*points)\n",
    "\n",
    "sns.set_style('whitegrid')\n",
    "\n",
    "plt.plot(x1,x2,linestyle='-',marker='o')\n",
    "plt.show()"
   ]
  },
  {
   "cell_type": "code",
   "execution_count": 30,
   "metadata": {},
   "outputs": [
    {
     "name": "stdout",
     "output_type": "stream",
     "text": [
      "torch.Size([1, 62])\n"
     ]
    },
    {
     "data": {
      "image/png": "[encoded data removed]",
      "text/plain": [
       "<Figure size 432x288 with 1 Axes>"
      ]
     },
     "metadata": {},
     "output_type": "display_data"
    }
   ],
   "source": [
    "path = torch.tensor(np.array((x1,x2)).T)\n",
    "\n",
    "k=4\n",
    "\n",
    "signature = signatory.signature(path.unsqueeze(0), k)\n",
    "signature_next = signatory.signature(path.unsqueeze(0), k+1)\n",
    "print(signature_next.shape)\n",
    "\n",
    "reconstructed_path_derivatives = np.zeros(shape=(2,k+1))\n",
    "\n",
    "reconstructed_path = np.zeros(shape=(2,k+2))\n",
    "reconstructed_path[:,0]=[x1[0],x2[0]]\n",
    "\n",
    "for p in np.arange(1,k+2):\n",
    "\n",
    "    x_optimal = solve_optimization_problem(signature, signature_next,p,n=k,dimension=2)\n",
    "    \n",
    "    reconstructed_path_derivatives[:,p-1] = x_optimal \n",
    "    \n",
    "    reconstructed_path[:,p] = reconstructed_path[:,p-1] + reconstructed_path_derivatives[:,p-1]*(1/k)\n",
    "    \n",
    "plt.plot(reconstructed_path[0,:],reconstructed_path[1,:],c='blue',marker='o')\n",
    "plt.plot(x1,x2,linestyle='-',marker='o',c='yellow')\n",
    "plt.show()\n",
    "    "
   ]
  },
  {
   "cell_type": "code",
   "execution_count": null,
   "metadata": {},
   "outputs": [],
   "source": []
  },
  {
   "cell_type": "code",
   "execution_count": null,
   "metadata": {},
   "outputs": [],
   "source": []
  }
 ],
 "metadata": {
  "kernelspec": {
   "display_name": "Python 3",
   "language": "python",
   "name": "python3"
  },
  "language_info": {
   "codemirror_mode": {
    "name": "ipython",
    "version": 3
   },
   "file_extension": ".py",
   "mimetype": "text/x-python",
   "name": "python",
   "nbconvert_exporter": "python",
   "pygments_lexer": "ipython3",
   "version": "3.7.7"
  }
 },
 "nbformat": 4,
 "nbformat_minor": 4
}
