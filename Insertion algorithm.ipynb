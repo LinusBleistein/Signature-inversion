{
 "cells": [
  {
   "cell_type": "markdown",
   "metadata": {},
   "source": [
    "# Insertion algorithm "
   ]
  },
  {
   "cell_type": "code",
   "execution_count": 188,
   "metadata": {},
   "outputs": [],
   "source": [
    "%matplotlib inline\n",
    "\n",
    "import numpy as np\n",
    "import os \n",
    "import math \n",
    "import matplotlib.pyplot as plt\n",
    "import matplotlib\n",
    "import sys \n",
    "import torch \n",
    "import signatory\n",
    "import itertools"
   ]
  },
  {
   "cell_type": "markdown",
   "metadata": {},
   "source": [
    "## Insertion operator "
   ]
  },
  {
   "cell_type": "code",
   "execution_count": 113,
   "metadata": {},
   "outputs": [
    {
     "name": "stdout",
     "output_type": "stream",
     "text": [
      "tensor([[[0.8374, 0.2912, 0.7036, 0.4183, 0.5546],\n",
      "         [0.5598, 0.4505, 0.3918, 0.0244, 0.9650],\n",
      "         [0.0223, 0.4697, 0.8233, 0.8471, 0.3236],\n",
      "         [0.4044, 0.2251, 0.7779, 0.3750, 0.4144],\n",
      "         [0.5029, 0.3032, 0.5652, 0.1450, 0.8820],\n",
      "         [0.6511, 0.8199, 0.0190, 0.9331, 0.1870],\n",
      "         [0.4765, 0.6081, 0.5612, 0.2418, 0.2141],\n",
      "         [0.8928, 0.9133, 0.1162, 0.8548, 0.4311],\n",
      "         [0.7902, 0.3508, 0.6837, 0.4870, 0.0934],\n",
      "         [0.8029, 0.5617, 0.2014, 0.9772, 0.4055]]])\n"
     ]
    }
   ],
   "source": [
    "test_path = torch.rand((1,10,5))\n",
    "\n",
    "print(test_path)"
   ]
  },
  {
   "cell_type": "code",
   "execution_count": 309,
   "metadata": {},
   "outputs": [
    {
     "name": "stdout",
     "output_type": "stream",
     "text": [
      "torch.Size([1, 30])\n"
     ]
    }
   ],
   "source": [
    "signature_test = signatory.signature(test_path, 2)\n",
    "print(signature_test.size())"
   ]
  },
  {
   "cell_type": "code",
   "execution_count": 128,
   "metadata": {},
   "outputs": [],
   "source": [
    "def get_signature_as_tensor(sig,dimension,order):\n",
    "    \n",
    "    ''' This function transforms a signature given as a vector into a series of tensors, \n",
    "    stored in a dictionnary. It uses the method extract_signature_term() of Signatory. \n",
    "    \n",
    "    For instance, for a path in R^d, the key called 'Depth z' is a Pytorch tensor \n",
    "    of size (R^d)^{\\otimes z}.\n",
    "    \n",
    "    Arguments that need to be specified are:\n",
    "        - sig : the original signature\n",
    "        - dimension : the dimension of the original path\n",
    "        - order : the order (or total depth) at which the original signature is calculated.\n",
    "    \n",
    "    '''\n",
    "    \n",
    "    total_tensor = {}\n",
    "    \n",
    "    for depth in np.arange(1,order+1):\n",
    "        \n",
    "        signature_at_depth = signatory.extract_signature_term(sig,dimension,int(depth))\n",
    "        \n",
    "        tensor_size = [dimension]*int(depth)\n",
    "        \n",
    "        signature_at_depth = signature_at_depth.view(tensor_size)\n",
    "        \n",
    "        total_tensor[\"Depth \" + str(depth)] = signature_at_depth\n",
    "        \n",
    "    return total_tensor      "
   ]
  },
  {
   "cell_type": "code",
   "execution_count": 470,
   "metadata": {},
   "outputs": [
    {
     "data": {
      "text/plain": [
       "{'Depth 1': tensor([-0.0345,  0.2705, -0.5022,  0.5589, -0.1491]),\n",
       " 'Depth 2': tensor([[ 0.0006, -0.0441,  0.0014, -0.1432,  0.1836],\n",
       "         [ 0.0347,  0.0366,  0.0377,  0.2514, -0.2213],\n",
       "         [ 0.0159, -0.1736,  0.1261, -0.3345,  0.2081],\n",
       "         [ 0.1239, -0.1002,  0.0537,  0.1562, -0.1871],\n",
       "         [-0.1785,  0.1810, -0.1332,  0.1037,  0.0111]])}"
      ]
     },
     "execution_count": 470,
     "metadata": {},
     "output_type": "execute_result"
    }
   ],
   "source": [
    "get_signature_as_tensor(signature_test,5,2)"
   ]
  },
  {
   "cell_type": "code",
   "execution_count": 582,
   "metadata": {},
   "outputs": [],
   "source": [
    "def Insertion(p,n,x,signature,dimension):\n",
    "    \n",
    "    '''This function computes the Insertion operator taken at x, for parameters p and n.\n",
    "    \n",
    "    Arguments : \n",
    "    \n",
    "        - x : vector in R^dimension at which the operator should be evaluated.\n",
    "        - p : insertion spot. \n",
    "        - n : total depth of the signature.\n",
    "        - signature : total signature of a path\n",
    "        - dimension : dimension of the path.\n",
    "    '''\n",
    "    \n",
    "    #Get the last (n-th) term of the signature as a tensor of size (R^dimension)^{\\otimes n}\n",
    "    \n",
    "    last_signature_term = get_signature_as_tensor(signature,dimension,n)[\"Depth \"+ str(n)]\n",
    "    \n",
    "    last_signature_term = torch.ones_like(last_signature_term)\n",
    "    \n",
    "    #Add a dimension, since the output of the operator should be in (R^d)^{\\otimes (n+1)}\n",
    "    \n",
    "    new_tensor = last_signature_term.unsqueeze(0).clone()\n",
    "    new_tensor = new_tensor.expand([dimension]*(n+1))\n",
    "    \n",
    "    #Creates a list containing all possible coordinates of the big tensor.\n",
    "    #This list is of length dimension**n. \n",
    "    \n",
    "    tensor_size = np.arange(dimension)\n",
    "    \n",
    "    coordinates_list = list(itertools.product(tensor_size,repeat= n+1))\n",
    "    \n",
    "    \n",
    "    #Every element of coordinates_list is a coordinate of the new tensor, which has d^(n+1) coordinates.\n",
    "    \n",
    "    #Computes the Insertion operator.\n",
    "    \n",
    "    print(new_tensor[1,1,1])\n",
    "    \n",
    "    for coordinate in coordinates_list:\n",
    "        \n",
    "        coordinate = list(coordinate)\n",
    "        \n",
    "        p_inverse = n-p+1\n",
    "        \n",
    "        x_coordinate = x[coordinate[p_inverse]]\n",
    "        \n",
    "        new_coordinate = coordinate.copy()\n",
    "        \n",
    "        del new_coordinate[p_inverse]\n",
    "        \n",
    "        new_tensor[tuple(coordinate)] = last_signature_term[tuple(new_coordinate)]*x_coordinate\n",
    "        \n",
    "        \n",
    "    return new_tensor"
   ]
  },
  {
   "cell_type": "code",
   "execution_count": 588,
   "metadata": {},
   "outputs": [
    {
     "name": "stdout",
     "output_type": "stream",
     "text": [
      "tensor(1.)\n"
     ]
    },
    {
     "data": {
      "text/plain": [
       "tensor([[[5., 5., 5., 5., 5.],\n",
       "         [5., 5., 5., 5., 5.],\n",
       "         [5., 5., 5., 5., 5.],\n",
       "         [5., 5., 5., 5., 5.],\n",
       "         [5., 5., 5., 5., 5.]],\n",
       "\n",
       "        [[5., 5., 5., 5., 5.],\n",
       "         [5., 5., 5., 5., 5.],\n",
       "         [5., 5., 5., 5., 5.],\n",
       "         [5., 5., 5., 5., 5.],\n",
       "         [5., 5., 5., 5., 5.]],\n",
       "\n",
       "        [[5., 5., 5., 5., 5.],\n",
       "         [5., 5., 5., 5., 5.],\n",
       "         [5., 5., 5., 5., 5.],\n",
       "         [5., 5., 5., 5., 5.],\n",
       "         [5., 5., 5., 5., 5.]],\n",
       "\n",
       "        [[5., 5., 5., 5., 5.],\n",
       "         [5., 5., 5., 5., 5.],\n",
       "         [5., 5., 5., 5., 5.],\n",
       "         [5., 5., 5., 5., 5.],\n",
       "         [5., 5., 5., 5., 5.]],\n",
       "\n",
       "        [[5., 5., 5., 5., 5.],\n",
       "         [5., 5., 5., 5., 5.],\n",
       "         [5., 5., 5., 5., 5.],\n",
       "         [5., 5., 5., 5., 5.],\n",
       "         [5., 5., 5., 5., 5.]]])"
      ]
     },
     "execution_count": 588,
     "metadata": {},
     "output_type": "execute_result"
    }
   ],
   "source": [
    "x=[1,2,3,4,5]\n",
    "\n",
    "p=3\n",
    "\n",
    "n=2\n",
    "\n",
    "dimension=5\n",
    "\n",
    "Insertion(p,n,x,signature_test,dimension)"
   ]
  },
  {
   "cell_type": "code",
   "execution_count": 361,
   "metadata": {},
   "outputs": [],
   "source": [
    "def get_length(signature,dimension,order):\n",
    "    \n",
    "    '''This function approximates the length of the path through the signature.\n",
    "    \n",
    "        Arguments are : \n",
    "            - signature : the full signature. \n",
    "            - order : the order at which the signature was truncated. \n",
    "    \n",
    "    '''\n",
    "    \n",
    "    last_signature_term = signatory.extract_signature_term(signature,dimension,int(order))\n",
    "    \n",
    "    return torch.norm(math.factorial(order)*last_signature_term,2)*(1/order)"
   ]
  },
  {
   "cell_type": "code",
   "execution_count": 363,
   "metadata": {},
   "outputs": [
    {
     "data": {
      "text/plain": [
       "tensor(0.7448)"
      ]
     },
     "execution_count": 363,
     "metadata": {},
     "output_type": "execute_result"
    }
   ],
   "source": [
    "get_length(signature_test,5,2)"
   ]
  },
  {
   "cell_type": "code",
   "execution_count": 431,
   "metadata": {},
   "outputs": [],
   "source": [
    "def get_A_matrix(p,signature,order,dimension):\n",
    "    \n",
    "    '''This function creates the matrix lenght_of_path*A, used in the optimization problem.\n",
    "    \n",
    "        Arguments: \n",
    "            - p : insertion spot.\n",
    "            - signature : full original signature.\n",
    "            - order : order of truncation of signature. \n",
    "            - dimension : dimension of the path. \n",
    "    \n",
    "    '''\n",
    "    \n",
    "    #Create basis of R^d\n",
    "    \n",
    "    basis = np.eye(dimension,dimension)\n",
    "    \n",
    "    #Evaluate the insertion operator on the basis\n",
    "    \n",
    "    total_tensor = torch.zeros(dimension,dimension**2,dimension)\n",
    "    \n",
    "    for row in np.arange(dimension):\n",
    "    \n",
    "        base_vector = basis[row,:]\n",
    "        \n",
    "        insertion_tensor = Insertion(p,order,base_vector,signature,dimension)\n",
    "        \n",
    "        print(insertion_tensor.size())\n",
    "        \n",
    "        insertion_tensor = insertion_tensor.reshape(-1,dimension)\n",
    "        \n",
    "        total_tensor[row,:,:] = insertion_tensor\n",
    "        \n",
    "    \n",
    "    total_tensor = total_tensor.reshape(dimension**(order+1),dimension)\n",
    "    \n",
    "    tensor_size = str(list(total_tensor.size()))\n",
    "    \n",
    "    length = get_length(signature,dimension,order)\n",
    "    \n",
    "    print('Size of A matrix is ' + tensor_size + ', should be [' + str(dimension**(order+1)) +','+ str(dimension)+']')\n",
    "    \n",
    "    return length*total_tensor\n",
    "\n",
    "    \n"
   ]
  },
  {
   "cell_type": "code",
   "execution_count": 430,
   "metadata": {},
   "outputs": [
    {
     "name": "stdout",
     "output_type": "stream",
     "text": [
      "torch.Size([5, 5, 5])\n",
      "torch.Size([5, 5, 5])\n",
      "torch.Size([5, 5, 5])\n",
      "torch.Size([5, 5, 5])\n",
      "torch.Size([5, 5, 5])\n",
      "Size of A matrix is [125, 5], should be [125,5]\n"
     ]
    },
    {
     "data": {
      "text/plain": [
       "tensor([[0.7448, 0.7448, 0.7448, 0.7448, 0.7448],\n",
       "        [0.0000, 0.0000, 0.0000, 0.0000, 0.0000],\n",
       "        [0.0000, 0.0000, 0.0000, 0.0000, 0.0000],\n",
       "        [0.0000, 0.0000, 0.0000, 0.0000, 0.0000],\n",
       "        [0.0000, 0.0000, 0.0000, 0.0000, 0.0000],\n",
       "        [0.7448, 0.7448, 0.7448, 0.7448, 0.7448],\n",
       "        [0.0000, 0.0000, 0.0000, 0.0000, 0.0000],\n",
       "        [0.0000, 0.0000, 0.0000, 0.0000, 0.0000],\n",
       "        [0.0000, 0.0000, 0.0000, 0.0000, 0.0000],\n",
       "        [0.0000, 0.0000, 0.0000, 0.0000, 0.0000],\n",
       "        [0.7448, 0.7448, 0.7448, 0.7448, 0.7448],\n",
       "        [0.0000, 0.0000, 0.0000, 0.0000, 0.0000],\n",
       "        [0.0000, 0.0000, 0.0000, 0.0000, 0.0000],\n",
       "        [0.0000, 0.0000, 0.0000, 0.0000, 0.0000],\n",
       "        [0.0000, 0.0000, 0.0000, 0.0000, 0.0000],\n",
       "        [0.7448, 0.7448, 0.7448, 0.7448, 0.7448],\n",
       "        [0.0000, 0.0000, 0.0000, 0.0000, 0.0000],\n",
       "        [0.0000, 0.0000, 0.0000, 0.0000, 0.0000],\n",
       "        [0.0000, 0.0000, 0.0000, 0.0000, 0.0000],\n",
       "        [0.0000, 0.0000, 0.0000, 0.0000, 0.0000],\n",
       "        [0.7448, 0.7448, 0.7448, 0.7448, 0.7448],\n",
       "        [0.0000, 0.0000, 0.0000, 0.0000, 0.0000],\n",
       "        [0.0000, 0.0000, 0.0000, 0.0000, 0.0000],\n",
       "        [0.0000, 0.0000, 0.0000, 0.0000, 0.0000],\n",
       "        [0.0000, 0.0000, 0.0000, 0.0000, 0.0000],\n",
       "        [0.0000, 0.0000, 0.0000, 0.0000, 0.0000],\n",
       "        [0.7448, 0.7448, 0.7448, 0.7448, 0.7448],\n",
       "        [0.0000, 0.0000, 0.0000, 0.0000, 0.0000],\n",
       "        [0.0000, 0.0000, 0.0000, 0.0000, 0.0000],\n",
       "        [0.0000, 0.0000, 0.0000, 0.0000, 0.0000],\n",
       "        [0.0000, 0.0000, 0.0000, 0.0000, 0.0000],\n",
       "        [0.7448, 0.7448, 0.7448, 0.7448, 0.7448],\n",
       "        [0.0000, 0.0000, 0.0000, 0.0000, 0.0000],\n",
       "        [0.0000, 0.0000, 0.0000, 0.0000, 0.0000],\n",
       "        [0.0000, 0.0000, 0.0000, 0.0000, 0.0000],\n",
       "        [0.0000, 0.0000, 0.0000, 0.0000, 0.0000],\n",
       "        [0.7448, 0.7448, 0.7448, 0.7448, 0.7448],\n",
       "        [0.0000, 0.0000, 0.0000, 0.0000, 0.0000],\n",
       "        [0.0000, 0.0000, 0.0000, 0.0000, 0.0000],\n",
       "        [0.0000, 0.0000, 0.0000, 0.0000, 0.0000],\n",
       "        [0.0000, 0.0000, 0.0000, 0.0000, 0.0000],\n",
       "        [0.7448, 0.7448, 0.7448, 0.7448, 0.7448],\n",
       "        [0.0000, 0.0000, 0.0000, 0.0000, 0.0000],\n",
       "        [0.0000, 0.0000, 0.0000, 0.0000, 0.0000],\n",
       "        [0.0000, 0.0000, 0.0000, 0.0000, 0.0000],\n",
       "        [0.0000, 0.0000, 0.0000, 0.0000, 0.0000],\n",
       "        [0.7448, 0.7448, 0.7448, 0.7448, 0.7448],\n",
       "        [0.0000, 0.0000, 0.0000, 0.0000, 0.0000],\n",
       "        [0.0000, 0.0000, 0.0000, 0.0000, 0.0000],\n",
       "        [0.0000, 0.0000, 0.0000, 0.0000, 0.0000],\n",
       "        [0.0000, 0.0000, 0.0000, 0.0000, 0.0000],\n",
       "        [0.0000, 0.0000, 0.0000, 0.0000, 0.0000],\n",
       "        [0.7448, 0.7448, 0.7448, 0.7448, 0.7448],\n",
       "        [0.0000, 0.0000, 0.0000, 0.0000, 0.0000],\n",
       "        [0.0000, 0.0000, 0.0000, 0.0000, 0.0000],\n",
       "        [0.0000, 0.0000, 0.0000, 0.0000, 0.0000],\n",
       "        [0.0000, 0.0000, 0.0000, 0.0000, 0.0000],\n",
       "        [0.7448, 0.7448, 0.7448, 0.7448, 0.7448],\n",
       "        [0.0000, 0.0000, 0.0000, 0.0000, 0.0000],\n",
       "        [0.0000, 0.0000, 0.0000, 0.0000, 0.0000],\n",
       "        [0.0000, 0.0000, 0.0000, 0.0000, 0.0000],\n",
       "        [0.0000, 0.0000, 0.0000, 0.0000, 0.0000],\n",
       "        [0.7448, 0.7448, 0.7448, 0.7448, 0.7448],\n",
       "        [0.0000, 0.0000, 0.0000, 0.0000, 0.0000],\n",
       "        [0.0000, 0.0000, 0.0000, 0.0000, 0.0000],\n",
       "        [0.0000, 0.0000, 0.0000, 0.0000, 0.0000],\n",
       "        [0.0000, 0.0000, 0.0000, 0.0000, 0.0000],\n",
       "        [0.7448, 0.7448, 0.7448, 0.7448, 0.7448],\n",
       "        [0.0000, 0.0000, 0.0000, 0.0000, 0.0000],\n",
       "        [0.0000, 0.0000, 0.0000, 0.0000, 0.0000],\n",
       "        [0.0000, 0.0000, 0.0000, 0.0000, 0.0000],\n",
       "        [0.0000, 0.0000, 0.0000, 0.0000, 0.0000],\n",
       "        [0.7448, 0.7448, 0.7448, 0.7448, 0.7448],\n",
       "        [0.0000, 0.0000, 0.0000, 0.0000, 0.0000],\n",
       "        [0.0000, 0.0000, 0.0000, 0.0000, 0.0000],\n",
       "        [0.0000, 0.0000, 0.0000, 0.0000, 0.0000],\n",
       "        [0.0000, 0.0000, 0.0000, 0.0000, 0.0000],\n",
       "        [0.0000, 0.0000, 0.0000, 0.0000, 0.0000],\n",
       "        [0.7448, 0.7448, 0.7448, 0.7448, 0.7448],\n",
       "        [0.0000, 0.0000, 0.0000, 0.0000, 0.0000],\n",
       "        [0.0000, 0.0000, 0.0000, 0.0000, 0.0000],\n",
       "        [0.0000, 0.0000, 0.0000, 0.0000, 0.0000],\n",
       "        [0.0000, 0.0000, 0.0000, 0.0000, 0.0000],\n",
       "        [0.7448, 0.7448, 0.7448, 0.7448, 0.7448],\n",
       "        [0.0000, 0.0000, 0.0000, 0.0000, 0.0000],\n",
       "        [0.0000, 0.0000, 0.0000, 0.0000, 0.0000],\n",
       "        [0.0000, 0.0000, 0.0000, 0.0000, 0.0000],\n",
       "        [0.0000, 0.0000, 0.0000, 0.0000, 0.0000],\n",
       "        [0.7448, 0.7448, 0.7448, 0.7448, 0.7448],\n",
       "        [0.0000, 0.0000, 0.0000, 0.0000, 0.0000],\n",
       "        [0.0000, 0.0000, 0.0000, 0.0000, 0.0000],\n",
       "        [0.0000, 0.0000, 0.0000, 0.0000, 0.0000],\n",
       "        [0.0000, 0.0000, 0.0000, 0.0000, 0.0000],\n",
       "        [0.7448, 0.7448, 0.7448, 0.7448, 0.7448],\n",
       "        [0.0000, 0.0000, 0.0000, 0.0000, 0.0000],\n",
       "        [0.0000, 0.0000, 0.0000, 0.0000, 0.0000],\n",
       "        [0.0000, 0.0000, 0.0000, 0.0000, 0.0000],\n",
       "        [0.0000, 0.0000, 0.0000, 0.0000, 0.0000],\n",
       "        [0.7448, 0.7448, 0.7448, 0.7448, 0.7448],\n",
       "        [0.0000, 0.0000, 0.0000, 0.0000, 0.0000],\n",
       "        [0.0000, 0.0000, 0.0000, 0.0000, 0.0000],\n",
       "        [0.0000, 0.0000, 0.0000, 0.0000, 0.0000],\n",
       "        [0.0000, 0.0000, 0.0000, 0.0000, 0.0000],\n",
       "        [0.0000, 0.0000, 0.0000, 0.0000, 0.0000],\n",
       "        [0.7448, 0.7448, 0.7448, 0.7448, 0.7448],\n",
       "        [0.0000, 0.0000, 0.0000, 0.0000, 0.0000],\n",
       "        [0.0000, 0.0000, 0.0000, 0.0000, 0.0000],\n",
       "        [0.0000, 0.0000, 0.0000, 0.0000, 0.0000],\n",
       "        [0.0000, 0.0000, 0.0000, 0.0000, 0.0000],\n",
       "        [0.7448, 0.7448, 0.7448, 0.7448, 0.7448],\n",
       "        [0.0000, 0.0000, 0.0000, 0.0000, 0.0000],\n",
       "        [0.0000, 0.0000, 0.0000, 0.0000, 0.0000],\n",
       "        [0.0000, 0.0000, 0.0000, 0.0000, 0.0000],\n",
       "        [0.0000, 0.0000, 0.0000, 0.0000, 0.0000],\n",
       "        [0.7448, 0.7448, 0.7448, 0.7448, 0.7448],\n",
       "        [0.0000, 0.0000, 0.0000, 0.0000, 0.0000],\n",
       "        [0.0000, 0.0000, 0.0000, 0.0000, 0.0000],\n",
       "        [0.0000, 0.0000, 0.0000, 0.0000, 0.0000],\n",
       "        [0.0000, 0.0000, 0.0000, 0.0000, 0.0000],\n",
       "        [0.7448, 0.7448, 0.7448, 0.7448, 0.7448],\n",
       "        [0.0000, 0.0000, 0.0000, 0.0000, 0.0000],\n",
       "        [0.0000, 0.0000, 0.0000, 0.0000, 0.0000],\n",
       "        [0.0000, 0.0000, 0.0000, 0.0000, 0.0000],\n",
       "        [0.0000, 0.0000, 0.0000, 0.0000, 0.0000],\n",
       "        [0.7448, 0.7448, 0.7448, 0.7448, 0.7448]])"
      ]
     },
     "execution_count": 430,
     "metadata": {},
     "output_type": "execute_result"
    }
   ],
   "source": [
    "get_A_matrix(1,signature_test,2,5)"
   ]
  }
 ],
 "metadata": {
  "kernelspec": {
   "display_name": "Python 3",
   "language": "python",
   "name": "python3"
  },
  "language_info": {
   "codemirror_mode": {
    "name": "ipython",
    "version": 3
   },
   "file_extension": ".py",
   "mimetype": "text/x-python",
   "name": "python",
   "nbconvert_exporter": "python",
   "pygments_lexer": "ipython3",
   "version": "3.7.7"
  }
 },
 "nbformat": 4,
 "nbformat_minor": 4
}
