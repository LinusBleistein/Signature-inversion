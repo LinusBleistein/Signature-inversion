{
 "cells": [
  {
   "cell_type": "markdown",
   "metadata": {},
   "source": [
    "# Insertion algorithm "
   ]
  },
  {
   "cell_type": "code",
   "execution_count": 2,
   "metadata": {},
   "outputs": [
    {
     "name": "stdout",
     "output_type": "stream",
     "text": [
      "1.5.0\n"
     ]
    }
   ],
   "source": [
    "%matplotlib inline\n",
    "\n",
    "import numpy as np\n",
    "import os \n",
    "import math \n",
    "import matplotlib.pyplot as plt\n",
    "import matplotlib\n",
    "import sys \n",
    "import torch \n",
    "import seaborn as sns\n",
    "\n",
    "print(torch.__version__)\n",
    "\n",
    "import signatory\n",
    "import itertools\n",
    "import cvxpy as cp"
   ]
  },
  {
   "cell_type": "code",
   "execution_count": 3,
   "metadata": {},
   "outputs": [
    {
     "name": "stdout",
     "output_type": "stream",
     "text": [
      "tensor([[[0.1272, 0.6284, 0.0698],\n",
      "         [0.2328, 0.9630, 0.2013],\n",
      "         [0.2903, 0.5839, 0.4358]],\n",
      "\n",
      "        [[0.2084, 0.0924, 0.9747],\n",
      "         [0.7882, 0.9625, 0.7568],\n",
      "         [0.4360, 0.6920, 0.8428]],\n",
      "\n",
      "        [[0.6211, 0.3837, 0.3806],\n",
      "         [0.6960, 0.8902, 0.4029],\n",
      "         [0.0921, 0.7900, 0.9720]]])\n",
      "tensor(0.2013)\n"
     ]
    }
   ],
   "source": [
    "test_tensor = torch.rand((3,3,3))\n",
    "print(test_tensor)\n",
    "\n",
    "print(test_tensor[0,1,2])"
   ]
  },
  {
   "cell_type": "markdown",
   "metadata": {},
   "source": [
    "## Insertion operator "
   ]
  },
  {
   "cell_type": "code",
   "execution_count": 4,
   "metadata": {},
   "outputs": [
    {
     "name": "stdout",
     "output_type": "stream",
     "text": [
      "tensor([[[0.8649, 0.7639, 0.0623, 0.1942, 0.6234],\n",
      "         [0.0337, 0.4736, 0.4697, 0.5001, 0.0115],\n",
      "         [0.5237, 0.8341, 0.0284, 0.3964, 0.8525],\n",
      "         [0.6540, 0.2371, 0.3905, 0.0545, 0.1038],\n",
      "         [0.7031, 0.5108, 0.1251, 0.2757, 0.0771],\n",
      "         [0.3394, 0.0353, 0.5605, 0.5852, 0.3924],\n",
      "         [0.4555, 0.2766, 0.7625, 0.7501, 0.0923],\n",
      "         [0.5546, 0.1430, 0.7666, 0.3149, 0.9374],\n",
      "         [0.5925, 0.0386, 0.6359, 0.4626, 0.6174],\n",
      "         [0.0560, 0.7619, 0.6528, 0.1939, 0.8255]]])\n"
     ]
    }
   ],
   "source": [
    "test_path = torch.rand((1,10,5))\n",
    "\n",
    "print(test_path)"
   ]
  },
  {
   "cell_type": "code",
   "execution_count": 5,
   "metadata": {},
   "outputs": [
    {
     "name": "stdout",
     "output_type": "stream",
     "text": [
      "torch.Size([1, 30])\n"
     ]
    }
   ],
   "source": [
    "signature_test = signatory.signature(test_path, 2)\n",
    "print(signature_test.size())"
   ]
  },
  {
   "cell_type": "code",
   "execution_count": 6,
   "metadata": {},
   "outputs": [],
   "source": [
    "def get_signature_as_tensor(sig,dimension,order):\n",
    "    \n",
    "    ''' This function transforms a signature given as a vector into a series of tensors, \n",
    "    stored in a dictionnary. It uses the method extract_signature_term() of Signatory. \n",
    "    \n",
    "    For instance, for a path in R^d, the key called 'Depth z' is a Pytorch tensor \n",
    "    of size (R^d)^{\\otimes z}.\n",
    "    \n",
    "    Arguments that need to be specified are:\n",
    "        - sig : the original signature\n",
    "        - dimension : the dimension of the original path\n",
    "        - order : the order (or total depth) at which the original signature is calculated.\n",
    "    \n",
    "    '''\n",
    "    \n",
    "    total_tensor = {}\n",
    "    \n",
    "    for depth in np.arange(1,order+1):\n",
    "        \n",
    "        signature_at_depth = signatory.extract_signature_term(sig,dimension,int(depth))\n",
    "        \n",
    "        tensor_size = [dimension]*int(depth)\n",
    "        \n",
    "        signature_at_depth = signature_at_depth.view(tensor_size)\n",
    "        \n",
    "        total_tensor[\"Depth \" + str(depth)] = signature_at_depth\n",
    "        \n",
    "    return total_tensor      "
   ]
  },
  {
   "cell_type": "code",
   "execution_count": 7,
   "metadata": {},
   "outputs": [
    {
     "data": {
      "text/plain": [
       "{'Depth 1': tensor([-8.0885e-01, -1.9810e-03,  5.9048e-01, -3.3808e-04,  2.0213e-01]),\n",
       " 'Depth 2': tensor([[ 3.2712e-01, -2.3880e-01, -1.7768e-01,  6.2242e-02, -3.1848e-01],\n",
       "         [ 2.4040e-01,  1.9968e-06, -2.4669e-01, -5.3880e-02, -1.2327e-01],\n",
       "         [-2.9992e-01,  2.4552e-01,  1.7433e-01, -1.4613e-01,  3.3577e-01],\n",
       "         [-6.1968e-02,  5.3880e-02,  1.4593e-01,  5.9605e-08,  2.8139e-01],\n",
       "         [ 1.5498e-01,  1.2287e-01, -2.1642e-01, -2.8145e-01,  2.0428e-02]])}"
      ]
     },
     "execution_count": 7,
     "metadata": {},
     "output_type": "execute_result"
    }
   ],
   "source": [
    "get_signature_as_tensor(signature_test,5,2)"
   ]
  },
  {
   "cell_type": "code",
   "execution_count": 8,
   "metadata": {},
   "outputs": [],
   "source": [
    "def Insertion(p,n,x,signature,dimension):\n",
    "    \n",
    "    '''This function computes the Insertion operator taken at x, for parameters p and n.\n",
    "    \n",
    "    Arguments : \n",
    "    \n",
    "        - x : vector in R^dimension at which the operator should be evaluated.\n",
    "        - p : insertion spot. \n",
    "        - n : total depth of the signature.\n",
    "        - signature : total signature of a path\n",
    "        - dimension : dimension of the path.\n",
    "    '''\n",
    "    \n",
    "    #Get the last (n-th) term of the signature as a tensor of size (R^dimension)^{\\otimes n}\n",
    "    \n",
    "    last_signature_term = get_signature_as_tensor(signature,dimension,n)[\"Depth \"+ str(n)]\n",
    "    \n",
    "    #Add a dimension, since the output of the operator should be in (R^d)^{\\otimes (n+1)}\n",
    "    \n",
    "    new_tensor = new_tensor=torch.empty([dimension]*(n+1))\n",
    "    \n",
    "    #Creates a list containing all possible coordinates of the big tensor.\n",
    "    #This list is of length dimension**n. \n",
    "    \n",
    "    tensor_size = np.arange(dimension)\n",
    "    \n",
    "    coordinates_list = list(itertools.product(tensor_size,repeat= n+1))\n",
    "    \n",
    "    \n",
    "    #Every element of coordinates_list is a coordinate of the new tensor, which has d^(n+1) coordinates.\n",
    "    \n",
    "    #Computes the Insertion operator.\n",
    "    \n",
    "    for coordinate in coordinates_list:\n",
    "        \n",
    "        coordinate = list(coordinate)\n",
    "                \n",
    "        x_coordinate = x[coordinate[p-1]]\n",
    "        \n",
    "        new_coordinate = coordinate.copy()\n",
    "        \n",
    "        del new_coordinate[p-1]\n",
    "        \n",
    "        new_tensor[tuple(coordinate)] = last_signature_term[tuple(new_coordinate)]*x_coordinate\n",
    "        \n",
    "        \n",
    "    return math.factorial(n)*new_tensor"
   ]
  },
  {
   "cell_type": "code",
   "execution_count": 9,
   "metadata": {},
   "outputs": [
    {
     "data": {
      "text/plain": [
       "tensor([[[ 6.5425e-01,  1.3085e+00,  1.9627e+00,  2.6170e+00,  3.2712e+00],\n",
       "         [-4.7759e-01, -9.5518e-01, -1.4328e+00, -1.9104e+00, -2.3880e+00],\n",
       "         [-3.5537e-01, -7.1074e-01, -1.0661e+00, -1.4215e+00, -1.7768e+00],\n",
       "         [ 1.2448e-01,  2.4897e-01,  3.7345e-01,  4.9793e-01,  6.2242e-01],\n",
       "         [-6.3695e-01, -1.2739e+00, -1.9109e+00, -2.5478e+00, -3.1848e+00]],\n",
       "\n",
       "        [[ 4.8080e-01,  9.6159e-01,  1.4424e+00,  1.9232e+00,  2.4040e+00],\n",
       "         [ 3.9935e-06,  7.9870e-06,  1.1981e-05,  1.5974e-05,  1.9968e-05],\n",
       "         [-4.9338e-01, -9.8677e-01, -1.4802e+00, -1.9735e+00, -2.4669e+00],\n",
       "         [-1.0776e-01, -2.1552e-01, -3.2328e-01, -4.3104e-01, -5.3880e-01],\n",
       "         [-2.4655e-01, -4.9310e-01, -7.3965e-01, -9.8620e-01, -1.2327e+00]],\n",
       "\n",
       "        [[-5.9985e-01, -1.1997e+00, -1.7995e+00, -2.3994e+00, -2.9992e+00],\n",
       "         [ 4.9104e-01,  9.8209e-01,  1.4731e+00,  1.9642e+00,  2.4552e+00],\n",
       "         [ 3.4866e-01,  6.9732e-01,  1.0460e+00,  1.3946e+00,  1.7433e+00],\n",
       "         [-2.9226e-01, -5.8452e-01, -8.7678e-01, -1.1690e+00, -1.4613e+00],\n",
       "         [ 6.7154e-01,  1.3431e+00,  2.0146e+00,  2.6861e+00,  3.3577e+00]],\n",
       "\n",
       "        [[-1.2394e-01, -2.4787e-01, -3.7181e-01, -4.9575e-01, -6.1968e-01],\n",
       "         [ 1.0776e-01,  2.1552e-01,  3.2328e-01,  4.3104e-01,  5.3880e-01],\n",
       "         [ 2.9186e-01,  5.8372e-01,  8.7558e-01,  1.1674e+00,  1.4593e+00],\n",
       "         [ 1.1921e-07,  2.3842e-07,  3.5763e-07,  4.7684e-07,  5.9605e-07],\n",
       "         [ 5.6277e-01,  1.1255e+00,  1.6883e+00,  2.2511e+00,  2.8139e+00]],\n",
       "\n",
       "        [[ 3.0997e-01,  6.1994e-01,  9.2991e-01,  1.2399e+00,  1.5498e+00],\n",
       "         [ 2.4575e-01,  4.9150e-01,  7.3725e-01,  9.8300e-01,  1.2287e+00],\n",
       "         [-4.3283e-01, -8.6567e-01, -1.2985e+00, -1.7313e+00, -2.1642e+00],\n",
       "         [-5.6291e-01, -1.1258e+00, -1.6887e+00, -2.2516e+00, -2.8145e+00],\n",
       "         [ 4.0856e-02,  8.1711e-02,  1.2257e-01,  1.6342e-01,  2.0428e-01]]])"
      ]
     },
     "execution_count": 9,
     "metadata": {},
     "output_type": "execute_result"
    }
   ],
   "source": [
    "x=[1,2,3,4,5]\n",
    "\n",
    "p=3\n",
    "\n",
    "n=2\n",
    "\n",
    "dimension=5\n",
    "\n",
    "Insertion(p,n,x,signature_test,dimension)"
   ]
  },
  {
   "cell_type": "code",
   "execution_count": 10,
   "metadata": {},
   "outputs": [],
   "source": [
    "def get_length(signature,dimension,order):\n",
    "    \n",
    "    '''This function approximates the length of the path through the signature.\n",
    "    \n",
    "        Arguments are : \n",
    "            - signature : the full signature. \n",
    "            - order : the order at which the signature was truncated. \n",
    "    \n",
    "    '''\n",
    "    \n",
    "    last_signature_term = signatory.extract_signature_term(signature,dimension,int(order))\n",
    "    \n",
    "    return torch.norm(math.factorial(order)*last_signature_term,2)*(1/order)"
   ]
  },
  {
   "cell_type": "code",
   "execution_count": 11,
   "metadata": {},
   "outputs": [
    {
     "data": {
      "text/plain": [
       "tensor(1.0125)"
      ]
     },
     "execution_count": 11,
     "metadata": {},
     "output_type": "execute_result"
    }
   ],
   "source": [
    "get_length(signature_test,5,2)"
   ]
  },
  {
   "cell_type": "code",
   "execution_count": 12,
   "metadata": {},
   "outputs": [],
   "source": [
    "def get_A_matrix(p,signature,order,dimension):\n",
    "    \n",
    "    '''This function creates the matrix lenght_of_path*A, used in the optimization problem.\n",
    "    \n",
    "        Arguments: \n",
    "            - p : insertion spot.\n",
    "            - signature : full original signature.\n",
    "            - order : order of truncation of signature. \n",
    "            - dimension : dimension of the path. \n",
    "    \n",
    "    '''\n",
    "    \n",
    "    #Create basis of R^d\n",
    "    \n",
    "    basis = np.eye(dimension,dimension)\n",
    "    \n",
    "    #Evaluate the insertion operator on the basis\n",
    "    \n",
    "    total_tensor = np.zeros(shape=(dimension**(order + 1),dimension))\n",
    "    \n",
    "    for row in np.arange(dimension):\n",
    "    \n",
    "        base_vector = basis[row,:]\n",
    "        \n",
    "        insertion_tensor = Insertion(p,order,base_vector,signature,dimension)\n",
    "        \n",
    "        insertion_tensor = insertion_tensor.reshape(-1,dimension)\n",
    "        \n",
    "        insertion_tensor = insertion_tensor.numpy()\n",
    "        \n",
    "        total_tensor[row*(dimension**(order)):(row+1)*(dimension**(order)),:] = insertion_tensor\n",
    "        \n",
    "    \n",
    "    total_tensor = total_tensor.reshape(dimension**(order+1),dimension)\n",
    "    \n",
    "    length = get_length(signature,dimension,order)\n",
    "    \n",
    "    return length*total_tensor\n",
    "\n",
    "    \n"
   ]
  },
  {
   "cell_type": "code",
   "execution_count": 13,
   "metadata": {},
   "outputs": [
    {
     "data": {
      "text/plain": [
       "tensor([[ 6.6243e-01, -4.8357e-01, -3.5981e-01,  1.2604e-01, -6.4492e-01],\n",
       "        [ 4.8681e-01,  4.0435e-06, -4.9956e-01, -1.0911e-01, -2.4963e-01],\n",
       "        [-6.0735e-01,  4.9719e-01,  3.5302e-01, -2.9592e-01,  6.7994e-01],\n",
       "        [-1.2549e-01,  1.0911e-01,  2.9551e-01,  1.2070e-07,  5.6981e-01],\n",
       "        [ 3.1385e-01,  2.4882e-01, -4.3825e-01, -5.6995e-01,  4.1367e-02],\n",
       "        [ 0.0000e+00, -0.0000e+00, -0.0000e+00,  0.0000e+00, -0.0000e+00],\n",
       "        [ 0.0000e+00,  0.0000e+00, -0.0000e+00, -0.0000e+00, -0.0000e+00],\n",
       "        [-0.0000e+00,  0.0000e+00,  0.0000e+00, -0.0000e+00,  0.0000e+00],\n",
       "        [-0.0000e+00,  0.0000e+00,  0.0000e+00,  0.0000e+00,  0.0000e+00],\n",
       "        [ 0.0000e+00,  0.0000e+00, -0.0000e+00, -0.0000e+00,  0.0000e+00],\n",
       "        [ 0.0000e+00, -0.0000e+00, -0.0000e+00,  0.0000e+00, -0.0000e+00],\n",
       "        [ 0.0000e+00,  0.0000e+00, -0.0000e+00, -0.0000e+00, -0.0000e+00],\n",
       "        [-0.0000e+00,  0.0000e+00,  0.0000e+00, -0.0000e+00,  0.0000e+00],\n",
       "        [-0.0000e+00,  0.0000e+00,  0.0000e+00,  0.0000e+00,  0.0000e+00],\n",
       "        [ 0.0000e+00,  0.0000e+00, -0.0000e+00, -0.0000e+00,  0.0000e+00],\n",
       "        [ 0.0000e+00, -0.0000e+00, -0.0000e+00,  0.0000e+00, -0.0000e+00],\n",
       "        [ 0.0000e+00,  0.0000e+00, -0.0000e+00, -0.0000e+00, -0.0000e+00],\n",
       "        [-0.0000e+00,  0.0000e+00,  0.0000e+00, -0.0000e+00,  0.0000e+00],\n",
       "        [-0.0000e+00,  0.0000e+00,  0.0000e+00,  0.0000e+00,  0.0000e+00],\n",
       "        [ 0.0000e+00,  0.0000e+00, -0.0000e+00, -0.0000e+00,  0.0000e+00],\n",
       "        [ 0.0000e+00, -0.0000e+00, -0.0000e+00,  0.0000e+00, -0.0000e+00],\n",
       "        [ 0.0000e+00,  0.0000e+00, -0.0000e+00, -0.0000e+00, -0.0000e+00],\n",
       "        [-0.0000e+00,  0.0000e+00,  0.0000e+00, -0.0000e+00,  0.0000e+00],\n",
       "        [-0.0000e+00,  0.0000e+00,  0.0000e+00,  0.0000e+00,  0.0000e+00],\n",
       "        [ 0.0000e+00,  0.0000e+00, -0.0000e+00, -0.0000e+00,  0.0000e+00],\n",
       "        [ 0.0000e+00, -0.0000e+00, -0.0000e+00,  0.0000e+00, -0.0000e+00],\n",
       "        [ 0.0000e+00,  0.0000e+00, -0.0000e+00, -0.0000e+00, -0.0000e+00],\n",
       "        [-0.0000e+00,  0.0000e+00,  0.0000e+00, -0.0000e+00,  0.0000e+00],\n",
       "        [-0.0000e+00,  0.0000e+00,  0.0000e+00,  0.0000e+00,  0.0000e+00],\n",
       "        [ 0.0000e+00,  0.0000e+00, -0.0000e+00, -0.0000e+00,  0.0000e+00],\n",
       "        [ 6.6243e-01, -4.8357e-01, -3.5981e-01,  1.2604e-01, -6.4492e-01],\n",
       "        [ 4.8681e-01,  4.0435e-06, -4.9956e-01, -1.0911e-01, -2.4963e-01],\n",
       "        [-6.0735e-01,  4.9719e-01,  3.5302e-01, -2.9592e-01,  6.7994e-01],\n",
       "        [-1.2549e-01,  1.0911e-01,  2.9551e-01,  1.2070e-07,  5.6981e-01],\n",
       "        [ 3.1385e-01,  2.4882e-01, -4.3825e-01, -5.6995e-01,  4.1367e-02],\n",
       "        [ 0.0000e+00, -0.0000e+00, -0.0000e+00,  0.0000e+00, -0.0000e+00],\n",
       "        [ 0.0000e+00,  0.0000e+00, -0.0000e+00, -0.0000e+00, -0.0000e+00],\n",
       "        [-0.0000e+00,  0.0000e+00,  0.0000e+00, -0.0000e+00,  0.0000e+00],\n",
       "        [-0.0000e+00,  0.0000e+00,  0.0000e+00,  0.0000e+00,  0.0000e+00],\n",
       "        [ 0.0000e+00,  0.0000e+00, -0.0000e+00, -0.0000e+00,  0.0000e+00],\n",
       "        [ 0.0000e+00, -0.0000e+00, -0.0000e+00,  0.0000e+00, -0.0000e+00],\n",
       "        [ 0.0000e+00,  0.0000e+00, -0.0000e+00, -0.0000e+00, -0.0000e+00],\n",
       "        [-0.0000e+00,  0.0000e+00,  0.0000e+00, -0.0000e+00,  0.0000e+00],\n",
       "        [-0.0000e+00,  0.0000e+00,  0.0000e+00,  0.0000e+00,  0.0000e+00],\n",
       "        [ 0.0000e+00,  0.0000e+00, -0.0000e+00, -0.0000e+00,  0.0000e+00],\n",
       "        [ 0.0000e+00, -0.0000e+00, -0.0000e+00,  0.0000e+00, -0.0000e+00],\n",
       "        [ 0.0000e+00,  0.0000e+00, -0.0000e+00, -0.0000e+00, -0.0000e+00],\n",
       "        [-0.0000e+00,  0.0000e+00,  0.0000e+00, -0.0000e+00,  0.0000e+00],\n",
       "        [-0.0000e+00,  0.0000e+00,  0.0000e+00,  0.0000e+00,  0.0000e+00],\n",
       "        [ 0.0000e+00,  0.0000e+00, -0.0000e+00, -0.0000e+00,  0.0000e+00],\n",
       "        [ 0.0000e+00, -0.0000e+00, -0.0000e+00,  0.0000e+00, -0.0000e+00],\n",
       "        [ 0.0000e+00,  0.0000e+00, -0.0000e+00, -0.0000e+00, -0.0000e+00],\n",
       "        [-0.0000e+00,  0.0000e+00,  0.0000e+00, -0.0000e+00,  0.0000e+00],\n",
       "        [-0.0000e+00,  0.0000e+00,  0.0000e+00,  0.0000e+00,  0.0000e+00],\n",
       "        [ 0.0000e+00,  0.0000e+00, -0.0000e+00, -0.0000e+00,  0.0000e+00],\n",
       "        [ 0.0000e+00, -0.0000e+00, -0.0000e+00,  0.0000e+00, -0.0000e+00],\n",
       "        [ 0.0000e+00,  0.0000e+00, -0.0000e+00, -0.0000e+00, -0.0000e+00],\n",
       "        [-0.0000e+00,  0.0000e+00,  0.0000e+00, -0.0000e+00,  0.0000e+00],\n",
       "        [-0.0000e+00,  0.0000e+00,  0.0000e+00,  0.0000e+00,  0.0000e+00],\n",
       "        [ 0.0000e+00,  0.0000e+00, -0.0000e+00, -0.0000e+00,  0.0000e+00],\n",
       "        [ 6.6243e-01, -4.8357e-01, -3.5981e-01,  1.2604e-01, -6.4492e-01],\n",
       "        [ 4.8681e-01,  4.0435e-06, -4.9956e-01, -1.0911e-01, -2.4963e-01],\n",
       "        [-6.0735e-01,  4.9719e-01,  3.5302e-01, -2.9592e-01,  6.7994e-01],\n",
       "        [-1.2549e-01,  1.0911e-01,  2.9551e-01,  1.2070e-07,  5.6981e-01],\n",
       "        [ 3.1385e-01,  2.4882e-01, -4.3825e-01, -5.6995e-01,  4.1367e-02],\n",
       "        [ 0.0000e+00, -0.0000e+00, -0.0000e+00,  0.0000e+00, -0.0000e+00],\n",
       "        [ 0.0000e+00,  0.0000e+00, -0.0000e+00, -0.0000e+00, -0.0000e+00],\n",
       "        [-0.0000e+00,  0.0000e+00,  0.0000e+00, -0.0000e+00,  0.0000e+00],\n",
       "        [-0.0000e+00,  0.0000e+00,  0.0000e+00,  0.0000e+00,  0.0000e+00],\n",
       "        [ 0.0000e+00,  0.0000e+00, -0.0000e+00, -0.0000e+00,  0.0000e+00],\n",
       "        [ 0.0000e+00, -0.0000e+00, -0.0000e+00,  0.0000e+00, -0.0000e+00],\n",
       "        [ 0.0000e+00,  0.0000e+00, -0.0000e+00, -0.0000e+00, -0.0000e+00],\n",
       "        [-0.0000e+00,  0.0000e+00,  0.0000e+00, -0.0000e+00,  0.0000e+00],\n",
       "        [-0.0000e+00,  0.0000e+00,  0.0000e+00,  0.0000e+00,  0.0000e+00],\n",
       "        [ 0.0000e+00,  0.0000e+00, -0.0000e+00, -0.0000e+00,  0.0000e+00],\n",
       "        [ 0.0000e+00, -0.0000e+00, -0.0000e+00,  0.0000e+00, -0.0000e+00],\n",
       "        [ 0.0000e+00,  0.0000e+00, -0.0000e+00, -0.0000e+00, -0.0000e+00],\n",
       "        [-0.0000e+00,  0.0000e+00,  0.0000e+00, -0.0000e+00,  0.0000e+00],\n",
       "        [-0.0000e+00,  0.0000e+00,  0.0000e+00,  0.0000e+00,  0.0000e+00],\n",
       "        [ 0.0000e+00,  0.0000e+00, -0.0000e+00, -0.0000e+00,  0.0000e+00],\n",
       "        [ 0.0000e+00, -0.0000e+00, -0.0000e+00,  0.0000e+00, -0.0000e+00],\n",
       "        [ 0.0000e+00,  0.0000e+00, -0.0000e+00, -0.0000e+00, -0.0000e+00],\n",
       "        [-0.0000e+00,  0.0000e+00,  0.0000e+00, -0.0000e+00,  0.0000e+00],\n",
       "        [-0.0000e+00,  0.0000e+00,  0.0000e+00,  0.0000e+00,  0.0000e+00],\n",
       "        [ 0.0000e+00,  0.0000e+00, -0.0000e+00, -0.0000e+00,  0.0000e+00],\n",
       "        [ 0.0000e+00, -0.0000e+00, -0.0000e+00,  0.0000e+00, -0.0000e+00],\n",
       "        [ 0.0000e+00,  0.0000e+00, -0.0000e+00, -0.0000e+00, -0.0000e+00],\n",
       "        [-0.0000e+00,  0.0000e+00,  0.0000e+00, -0.0000e+00,  0.0000e+00],\n",
       "        [-0.0000e+00,  0.0000e+00,  0.0000e+00,  0.0000e+00,  0.0000e+00],\n",
       "        [ 0.0000e+00,  0.0000e+00, -0.0000e+00, -0.0000e+00,  0.0000e+00],\n",
       "        [ 6.6243e-01, -4.8357e-01, -3.5981e-01,  1.2604e-01, -6.4492e-01],\n",
       "        [ 4.8681e-01,  4.0435e-06, -4.9956e-01, -1.0911e-01, -2.4963e-01],\n",
       "        [-6.0735e-01,  4.9719e-01,  3.5302e-01, -2.9592e-01,  6.7994e-01],\n",
       "        [-1.2549e-01,  1.0911e-01,  2.9551e-01,  1.2070e-07,  5.6981e-01],\n",
       "        [ 3.1385e-01,  2.4882e-01, -4.3825e-01, -5.6995e-01,  4.1367e-02],\n",
       "        [ 0.0000e+00, -0.0000e+00, -0.0000e+00,  0.0000e+00, -0.0000e+00],\n",
       "        [ 0.0000e+00,  0.0000e+00, -0.0000e+00, -0.0000e+00, -0.0000e+00],\n",
       "        [-0.0000e+00,  0.0000e+00,  0.0000e+00, -0.0000e+00,  0.0000e+00],\n",
       "        [-0.0000e+00,  0.0000e+00,  0.0000e+00,  0.0000e+00,  0.0000e+00],\n",
       "        [ 0.0000e+00,  0.0000e+00, -0.0000e+00, -0.0000e+00,  0.0000e+00],\n",
       "        [ 0.0000e+00, -0.0000e+00, -0.0000e+00,  0.0000e+00, -0.0000e+00],\n",
       "        [ 0.0000e+00,  0.0000e+00, -0.0000e+00, -0.0000e+00, -0.0000e+00],\n",
       "        [-0.0000e+00,  0.0000e+00,  0.0000e+00, -0.0000e+00,  0.0000e+00],\n",
       "        [-0.0000e+00,  0.0000e+00,  0.0000e+00,  0.0000e+00,  0.0000e+00],\n",
       "        [ 0.0000e+00,  0.0000e+00, -0.0000e+00, -0.0000e+00,  0.0000e+00],\n",
       "        [ 0.0000e+00, -0.0000e+00, -0.0000e+00,  0.0000e+00, -0.0000e+00],\n",
       "        [ 0.0000e+00,  0.0000e+00, -0.0000e+00, -0.0000e+00, -0.0000e+00],\n",
       "        [-0.0000e+00,  0.0000e+00,  0.0000e+00, -0.0000e+00,  0.0000e+00],\n",
       "        [-0.0000e+00,  0.0000e+00,  0.0000e+00,  0.0000e+00,  0.0000e+00],\n",
       "        [ 0.0000e+00,  0.0000e+00, -0.0000e+00, -0.0000e+00,  0.0000e+00],\n",
       "        [ 0.0000e+00, -0.0000e+00, -0.0000e+00,  0.0000e+00, -0.0000e+00],\n",
       "        [ 0.0000e+00,  0.0000e+00, -0.0000e+00, -0.0000e+00, -0.0000e+00],\n",
       "        [-0.0000e+00,  0.0000e+00,  0.0000e+00, -0.0000e+00,  0.0000e+00],\n",
       "        [-0.0000e+00,  0.0000e+00,  0.0000e+00,  0.0000e+00,  0.0000e+00],\n",
       "        [ 0.0000e+00,  0.0000e+00, -0.0000e+00, -0.0000e+00,  0.0000e+00],\n",
       "        [ 0.0000e+00, -0.0000e+00, -0.0000e+00,  0.0000e+00, -0.0000e+00],\n",
       "        [ 0.0000e+00,  0.0000e+00, -0.0000e+00, -0.0000e+00, -0.0000e+00],\n",
       "        [-0.0000e+00,  0.0000e+00,  0.0000e+00, -0.0000e+00,  0.0000e+00],\n",
       "        [-0.0000e+00,  0.0000e+00,  0.0000e+00,  0.0000e+00,  0.0000e+00],\n",
       "        [ 0.0000e+00,  0.0000e+00, -0.0000e+00, -0.0000e+00,  0.0000e+00],\n",
       "        [ 6.6243e-01, -4.8357e-01, -3.5981e-01,  1.2604e-01, -6.4492e-01],\n",
       "        [ 4.8681e-01,  4.0435e-06, -4.9956e-01, -1.0911e-01, -2.4963e-01],\n",
       "        [-6.0735e-01,  4.9719e-01,  3.5302e-01, -2.9592e-01,  6.7994e-01],\n",
       "        [-1.2549e-01,  1.0911e-01,  2.9551e-01,  1.2070e-07,  5.6981e-01],\n",
       "        [ 3.1385e-01,  2.4882e-01, -4.3825e-01, -5.6995e-01,  4.1367e-02]],\n",
       "       dtype=torch.float64)"
      ]
     },
     "execution_count": 13,
     "metadata": {},
     "output_type": "execute_result"
    }
   ],
   "source": [
    "get_A_matrix(1,signature_test,2,5)"
   ]
  },
  {
   "cell_type": "code",
   "execution_count": 14,
   "metadata": {},
   "outputs": [],
   "source": [
    "def solve_optimization_problem(signature,signature_next_step,p,n,dimension):\n",
    "    \n",
    "    '''This function solves the optimization problem that allows to approximate the signature \n",
    "        of the path. \n",
    "        \n",
    "        Arguments:\n",
    "            - n : order at which the signature is taken.\n",
    "            - signature : full signature at order n.\n",
    "            - signature_next_step : full signature at order n+1 (!).\n",
    "            - p : insertion spot, determinates the time interval on which the derivative is approximated. \n",
    "            - dimension : dimension of the path.\n",
    "    '''\n",
    "    \n",
    "    #Create A matrix and b vector used in the optimization problem. \n",
    "    \n",
    "    A_matrix = np.array(get_A_matrix(p,signature,n,dimension))\n",
    "    \n",
    "    b_vector = np.array(signatory.extract_signature_term(signature_next_step,dimension,int(n+1)))\n",
    "    \n",
    "    b_vector = b_vector.flatten()\n",
    "    \n",
    "    #SVD \n",
    "    \n",
    "    U,Sigma,V = np.linalg.svd(A_matrix,full_matrices=True)\n",
    "    \n",
    "    Y = U@b_vector \n",
    "    \n",
    "    #Only take the d-first values of Y\n",
    "    \n",
    "    Y = Y[0:dimension]\n",
    "    \n",
    "    #Compute optimal x\n",
    "    \n",
    "    x = (1/np.linalg.norm(Y))*Y\n",
    "    \n",
    "    x_optimal = (V.T)@(V)@x\n",
    "    \n",
    "    return x_optimal  "
   ]
  },
  {
   "cell_type": "code",
   "execution_count": 15,
   "metadata": {},
   "outputs": [
    {
     "data": {
      "text/plain": [
       "array([-0.01928678,  0.88088377,  0.47067782, -0.04576185,  0.00632765])"
      ]
     },
     "execution_count": 15,
     "metadata": {},
     "output_type": "execute_result"
    }
   ],
   "source": [
    "signature = signatory.signature(test_path, 2)\n",
    "signature_next = signatory.signature(test_path,3)\n",
    "\n",
    "solve_optimization_problem(signature, signature_next,p=2,n=2,dimension=5)"
   ]
  },
  {
   "cell_type": "markdown",
   "metadata": {},
   "source": [
    "## Tests"
   ]
  },
  {
   "cell_type": "markdown",
   "metadata": {},
   "source": [
    "### Tests on semi-circle "
   ]
  },
  {
   "cell_type": "code",
   "execution_count": 16,
   "metadata": {},
   "outputs": [
    {
     "name": "stdout",
     "output_type": "stream",
     "text": [
      "[0.  0.1 0.2 0.3 0.4 0.5 0.6 0.7 0.8 0.9 1. ]\n"
     ]
    },
    {
     "data": {
      "image/png": "[encoded data removed]",
      "text/plain": [
       "<Figure size 432x288 with 1 Axes>"
      ]
     },
     "metadata": {},
     "output_type": "display_data"
    }
   ],
   "source": [
    "points = np.arange(0,1.1,0.1)\n",
    "\n",
    "print(points)\n",
    "\n",
    "x1 = 1/(math.pi)*np.cos(math.pi*points)\n",
    "\n",
    "x2 = 1/(math.pi)*np.sin(math.pi*points)\n",
    "\n",
    "sns.set_style('whitegrid')\n",
    "\n",
    "plt.plot(x1,x2,linestyle='-',marker='o')\n",
    "plt.show()"
   ]
  },
  {
   "cell_type": "code",
   "execution_count": 33,
   "metadata": {},
   "outputs": [
    {
     "data": {
      "image/png": "[encoded data removed]",
      "text/plain": [
       "<Figure size 432x288 with 1 Axes>"
      ]
     },
     "metadata": {},
     "output_type": "display_data"
    }
   ],
   "source": [
    "path = torch.tensor(np.array((x1,x2)).T)\n",
    "\n",
    "k=13\n",
    "\n",
    "signature = signatory.signature(path.unsqueeze(0), k)\n",
    "signature_next = signatory.signature(path.unsqueeze(0), k+1)\n",
    "\n",
    "reconstructed_path_derivatives = np.zeros(shape=(2,k))\n",
    "\n",
    "reconstructed_path = np.zeros(shape=(2,k+1))\n",
    "\n",
    "for p in np.arange(1,k+1):\n",
    "\n",
    "    x_optimal = solve_optimization_problem(signature, signature_next,p,n=k,dimension=2)\n",
    "    \n",
    "    reconstructed_path_derivatives[:,p-1] = x_optimal \n",
    "    \n",
    "    reconstructed_path[:,p] = reconstructed_path[:,p-1] + reconstructed_path_derivatives[:,p-1]*(1/k)\n",
    "    \n",
    "plt.plot(reconstructed_path[0,:],reconstructed_path[1,:],c='blue',marker='o')\n",
    "plt.plot(x1,x2,linestyle='-',marker='o',c='yellow')\n",
    "plt.show()\n",
    "    "
   ]
  },
  {
   "cell_type": "code",
   "execution_count": null,
   "metadata": {},
   "outputs": [],
   "source": []
  },
  {
   "cell_type": "code",
   "execution_count": null,
   "metadata": {},
   "outputs": [],
   "source": []
  },
  {
   "cell_type": "code",
   "execution_count": null,
   "metadata": {},
   "outputs": [],
   "source": []
  }
 ],
 "metadata": {
  "kernelspec": {
   "display_name": "Python 3",
   "language": "python",
   "name": "python3"
  },
  "language_info": {
   "codemirror_mode": {
    "name": "ipython",
    "version": 3
   },
   "file_extension": ".py",
   "mimetype": "text/x-python",
   "name": "python",
   "nbconvert_exporter": "python",
   "pygments_lexer": "ipython3",
   "version": "3.7.7"
  }
 },
 "nbformat": 4,
 "nbformat_minor": 4
}
