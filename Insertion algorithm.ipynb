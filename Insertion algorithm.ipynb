{
 "cells": [
  {
   "cell_type": "markdown",
   "metadata": {},
   "source": [
    "# Insertion algorithm "
   ]
  },
  {
   "cell_type": "code",
   "execution_count": 3,
   "metadata": {},
   "outputs": [
    {
     "name": "stdout",
     "output_type": "stream",
     "text": [
      "1.5.0\n"
     ]
    }
   ],
   "source": [
    "%matplotlib inline\n",
    "\n",
    "import numpy as np\n",
    "import os \n",
    "import math \n",
    "import matplotlib.pyplot as plt\n",
    "import matplotlib\n",
    "import sys \n",
    "import torch \n",
    "import seaborn as sns\n",
    "\n",
    "print(torch.__version__)\n",
    "\n",
    "import signatory\n",
    "import itertools\n",
    "import cvxpy as cp"
   ]
  },
  {
   "cell_type": "code",
   "execution_count": 4,
   "metadata": {},
   "outputs": [
    {
     "name": "stdout",
     "output_type": "stream",
     "text": [
      "tensor([[[0.4786, 0.6928, 0.2547],\n",
      "         [0.1010, 0.1392, 0.6793],\n",
      "         [0.6761, 0.6344, 0.5665]],\n",
      "\n",
      "        [[0.4570, 0.2712, 0.3174],\n",
      "         [0.1172, 0.6881, 0.7066],\n",
      "         [0.2310, 0.0726, 0.9306]],\n",
      "\n",
      "        [[0.5993, 0.2889, 0.7625],\n",
      "         [0.4604, 0.2071, 0.3191],\n",
      "         [0.4022, 0.0555, 0.5511]]])\n",
      "tensor(0.6793)\n"
     ]
    }
   ],
   "source": [
    "test_tensor = torch.rand((3,3,3))\n",
    "print(test_tensor)\n",
    "\n",
    "print(test_tensor[0,1,2])"
   ]
  },
  {
   "cell_type": "markdown",
   "metadata": {},
   "source": [
    "## Insertion operator "
   ]
  },
  {
   "cell_type": "code",
   "execution_count": 5,
   "metadata": {},
   "outputs": [
    {
     "name": "stdout",
     "output_type": "stream",
     "text": [
      "tensor([[[0.4581, 0.0652, 0.7990, 0.3512, 0.9361],\n",
      "         [0.0591, 0.9760, 0.3213, 0.5383, 0.7274],\n",
      "         [0.3892, 0.4510, 0.3785, 0.0465, 0.6059],\n",
      "         [0.3356, 0.2946, 0.7191, 0.1583, 0.2623],\n",
      "         [0.3606, 0.9535, 0.9057, 0.5000, 0.4630],\n",
      "         [0.6163, 0.5731, 0.5509, 0.5375, 0.4289],\n",
      "         [0.3837, 0.0304, 0.6515, 0.5424, 0.4014],\n",
      "         [0.4814, 0.0404, 0.5882, 0.4250, 0.9271],\n",
      "         [0.4428, 0.3742, 0.1067, 0.9787, 0.2007],\n",
      "         [0.6775, 0.4246, 0.5781, 0.6987, 0.7513]]])\n"
     ]
    }
   ],
   "source": [
    "test_path = torch.rand((1,10,5))\n",
    "\n",
    "print(test_path)"
   ]
  },
  {
   "cell_type": "code",
   "execution_count": 6,
   "metadata": {},
   "outputs": [
    {
     "name": "stdout",
     "output_type": "stream",
     "text": [
      "torch.Size([1, 30])\n"
     ]
    }
   ],
   "source": [
    "signature_test = signatory.signature(test_path, 2)\n",
    "print(signature_test.size())"
   ]
  },
  {
   "cell_type": "code",
   "execution_count": 7,
   "metadata": {},
   "outputs": [],
   "source": [
    "def get_signature_as_tensor(sig,dimension,order):\n",
    "    \n",
    "    ''' This function transforms a signature given as a vector into a series of tensors, \n",
    "    stored in a dictionnary. It uses the method extract_signature_term() of Signatory. \n",
    "    \n",
    "    For instance, for a path in R^d, the key called 'Depth z' is a Pytorch tensor \n",
    "    of size (R^d)^{\\otimes z}.\n",
    "    \n",
    "    Arguments that need to be specified are:\n",
    "        - sig : the original signature\n",
    "        - dimension : the dimension of the original path\n",
    "        - order : the order (or total depth) at which the original signature is calculated.\n",
    "    \n",
    "    '''\n",
    "    \n",
    "    total_tensor = {}\n",
    "    \n",
    "    for depth in np.arange(1,order+1):\n",
    "        \n",
    "        signature_at_depth = signatory.extract_signature_term(sig,dimension,int(depth))\n",
    "        \n",
    "        tensor_size = [dimension]*int(depth)\n",
    "        \n",
    "        signature_at_depth = signature_at_depth.view(tensor_size)\n",
    "        \n",
    "        total_tensor[\"Depth \" + str(depth)] = signature_at_depth\n",
    "        \n",
    "    return total_tensor      "
   ]
  },
  {
   "cell_type": "code",
   "execution_count": 8,
   "metadata": {},
   "outputs": [
    {
     "data": {
      "text/plain": [
       "{'Depth 1': tensor([ 0.2194,  0.3594, -0.2209,  0.3474, -0.1848]),\n",
       " 'Depth 2': tensor([[ 0.0241, -0.1445,  0.0700,  0.0074,  0.1185],\n",
       "         [ 0.2233,  0.0646, -0.1043,  0.0076, -0.1326],\n",
       "         [-0.1185,  0.0249,  0.0244,  0.0481,  0.1834],\n",
       "         [ 0.0688,  0.1173, -0.1248,  0.0604,  0.1411],\n",
       "         [-0.1591,  0.0661, -0.1425, -0.2054,  0.0171]])}"
      ]
     },
     "execution_count": 8,
     "metadata": {},
     "output_type": "execute_result"
    }
   ],
   "source": [
    "get_signature_as_tensor(signature_test,5,2)"
   ]
  },
  {
   "cell_type": "code",
   "execution_count": 9,
   "metadata": {},
   "outputs": [],
   "source": [
    "def Insertion(p,n,x,signature,dimension):\n",
    "    \n",
    "    '''This function computes the Insertion operator taken at x, for parameters p and n.\n",
    "    \n",
    "    Arguments : \n",
    "    \n",
    "        - x : vector in R^dimension at which the operator should be evaluated.\n",
    "        - p : insertion spot. \n",
    "        - n : total depth of the signature.\n",
    "        - signature : total signature of a path\n",
    "        - dimension : dimension of the path.\n",
    "    '''\n",
    "    \n",
    "    #Get the last (n-th) term of the signature as a tensor of size (R^dimension)^{\\otimes n}\n",
    "    \n",
    "    last_signature_term = get_signature_as_tensor(signature,dimension,n)[\"Depth \"+ str(n)]\n",
    "    \n",
    "    #Add a dimension, since the output of the operator should be in (R^d)^{\\otimes (n+1)}\n",
    "    \n",
    "    new_tensor = new_tensor=torch.empty([dimension]*(n+1))\n",
    "    \n",
    "    #Creates a list containing all possible coordinates of the big tensor.\n",
    "    #This list is of length dimension**n. \n",
    "    \n",
    "    tensor_size = np.arange(dimension)\n",
    "    \n",
    "    coordinates_list = list(itertools.product(tensor_size,repeat= n+1))\n",
    "    \n",
    "    \n",
    "    #Every element of coordinates_list is a coordinate of the new tensor, which has d^(n+1) coordinates.\n",
    "    \n",
    "    #Computes the Insertion operator.\n",
    "    \n",
    "    for coordinate in coordinates_list:\n",
    "        \n",
    "        coordinate = list(coordinate)\n",
    "                \n",
    "        x_coordinate = x[coordinate[p-1]]\n",
    "        \n",
    "        new_coordinate = coordinate.copy()\n",
    "        \n",
    "        del new_coordinate[p-1]\n",
    "        \n",
    "        new_tensor[tuple(coordinate)] = last_signature_term[tuple(new_coordinate)]*x_coordinate\n",
    "        \n",
    "        \n",
    "    return math.factorial(n)*new_tensor"
   ]
  },
  {
   "cell_type": "code",
   "execution_count": 10,
   "metadata": {},
   "outputs": [
    {
     "data": {
      "text/plain": [
       "tensor([[[ 0.0481,  0.0963,  0.1444,  0.1925,  0.2407],\n",
       "         [-0.2890, -0.5779, -0.8669, -1.1558, -1.4448],\n",
       "         [ 0.1400,  0.2801,  0.4201,  0.5602,  0.7002],\n",
       "         [ 0.0149,  0.0297,  0.0446,  0.0594,  0.0743],\n",
       "         [ 0.2371,  0.4741,  0.7112,  0.9483,  1.1853]],\n",
       "\n",
       "        [[ 0.4467,  0.8934,  1.3400,  1.7867,  2.2334],\n",
       "         [ 0.1292,  0.2584,  0.3876,  0.5168,  0.6460],\n",
       "         [-0.2086, -0.4172, -0.6258, -0.8343, -1.0429],\n",
       "         [ 0.0153,  0.0305,  0.0458,  0.0610,  0.0763],\n",
       "         [-0.2651, -0.5302, -0.7953, -1.0604, -1.3255]],\n",
       "\n",
       "        [[-0.2370, -0.4739, -0.7109, -0.9479, -1.1849],\n",
       "         [ 0.0498,  0.0996,  0.1493,  0.1991,  0.2489],\n",
       "         [ 0.0488,  0.0976,  0.1464,  0.1952,  0.2440],\n",
       "         [ 0.0961,  0.1922,  0.2883,  0.3844,  0.4806],\n",
       "         [ 0.3668,  0.7335,  1.1003,  1.4670,  1.8338]],\n",
       "\n",
       "        [[ 0.1376,  0.2752,  0.4128,  0.5504,  0.6880],\n",
       "         [ 0.2345,  0.4690,  0.7035,  0.9381,  1.1726],\n",
       "         [-0.2496, -0.4992, -0.7488, -0.9985, -1.2481],\n",
       "         [ 0.1207,  0.2414,  0.3621,  0.4828,  0.6036],\n",
       "         [ 0.2823,  0.5646,  0.8469,  1.1292,  1.4115]],\n",
       "\n",
       "        [[-0.3182, -0.6363, -0.9545, -1.2727, -1.5908],\n",
       "         [ 0.1322,  0.2645,  0.3967,  0.5289,  0.6612],\n",
       "         [-0.2851, -0.5702, -0.8553, -1.1404, -1.4255],\n",
       "         [-0.4107, -0.8214, -1.2322, -1.6429, -2.0536],\n",
       "         [ 0.0342,  0.0683,  0.1025,  0.1366,  0.1708]]])"
      ]
     },
     "execution_count": 10,
     "metadata": {},
     "output_type": "execute_result"
    }
   ],
   "source": [
    "x=[1,2,3,4,5]\n",
    "\n",
    "p=3\n",
    "\n",
    "n=2\n",
    "\n",
    "dimension=5\n",
    "\n",
    "Insertion(p,n,x,signature_test,dimension)"
   ]
  },
  {
   "cell_type": "code",
   "execution_count": 11,
   "metadata": {},
   "outputs": [],
   "source": [
    "def get_length(signature,dimension,order):\n",
    "    \n",
    "    '''This function approximates the length of the path through the signature.\n",
    "    \n",
    "        Arguments are : \n",
    "            - signature : the full signature. \n",
    "            - order : the order at which the signature was truncated. \n",
    "    \n",
    "    '''\n",
    "    \n",
    "    last_signature_term = signatory.extract_signature_term(signature,dimension,int(order))\n",
    "    \n",
    "    return torch.norm(math.factorial(order)*last_signature_term,2)*(1/order)"
   ]
  },
  {
   "cell_type": "code",
   "execution_count": 12,
   "metadata": {},
   "outputs": [
    {
     "data": {
      "text/plain": [
       "tensor(0.5695)"
      ]
     },
     "execution_count": 12,
     "metadata": {},
     "output_type": "execute_result"
    }
   ],
   "source": [
    "get_length(signature_test,5,2)"
   ]
  },
  {
   "cell_type": "code",
   "execution_count": 13,
   "metadata": {},
   "outputs": [],
   "source": [
    "def get_A_matrix(p,signature,order,dimension):\n",
    "    \n",
    "    '''This function creates the matrix lenght_of_path*A, used in the optimization problem.\n",
    "    \n",
    "        Arguments: \n",
    "            - p : insertion spot.\n",
    "            - signature : full original signature.\n",
    "            - order : order of truncation of signature. \n",
    "            - dimension : dimension of the path. \n",
    "    \n",
    "    '''\n",
    "    \n",
    "    #Create basis of R^d\n",
    "    \n",
    "    basis = np.eye(dimension,dimension)\n",
    "    \n",
    "    #Evaluate the insertion operator on the basis\n",
    "    \n",
    "    total_tensor = np.zeros(shape=(dimension**(order + 1),dimension))\n",
    "    \n",
    "    for row in np.arange(dimension):\n",
    "    \n",
    "        base_vector = basis[row,:]\n",
    "        \n",
    "        insertion_tensor = Insertion(p,order,base_vector,signature,dimension)\n",
    "        \n",
    "        insertion_tensor = insertion_tensor.reshape(-1,dimension)\n",
    "        \n",
    "        insertion_tensor = insertion_tensor.numpy()\n",
    "        \n",
    "        total_tensor[row*(dimension**(order)):(row+1)*(dimension**(order)),:] = insertion_tensor\n",
    "        \n",
    "    \n",
    "    total_tensor = total_tensor.reshape(dimension**(order+1),dimension)\n",
    "    \n",
    "    length = get_length(signature,dimension,order)\n",
    "    \n",
    "    return length*total_tensor\n",
    "\n",
    "    \n"
   ]
  },
  {
   "cell_type": "code",
   "execution_count": 14,
   "metadata": {},
   "outputs": [
    {
     "data": {
      "text/plain": [
       "tensor([[ 0.0274, -0.1646,  0.0798,  0.0085,  0.1350],\n",
       "        [ 0.2544,  0.0736, -0.1188,  0.0087, -0.1510],\n",
       "        [-0.1349,  0.0283,  0.0278,  0.0547,  0.2089],\n",
       "        [ 0.0784,  0.1335, -0.1421,  0.0687,  0.1608],\n",
       "        [-0.1812,  0.0753, -0.1624, -0.2339,  0.0195],\n",
       "        [ 0.0000, -0.0000,  0.0000,  0.0000,  0.0000],\n",
       "        [ 0.0000,  0.0000, -0.0000,  0.0000, -0.0000],\n",
       "        [-0.0000,  0.0000,  0.0000,  0.0000,  0.0000],\n",
       "        [ 0.0000,  0.0000, -0.0000,  0.0000,  0.0000],\n",
       "        [-0.0000,  0.0000, -0.0000, -0.0000,  0.0000],\n",
       "        [ 0.0000, -0.0000,  0.0000,  0.0000,  0.0000],\n",
       "        [ 0.0000,  0.0000, -0.0000,  0.0000, -0.0000],\n",
       "        [-0.0000,  0.0000,  0.0000,  0.0000,  0.0000],\n",
       "        [ 0.0000,  0.0000, -0.0000,  0.0000,  0.0000],\n",
       "        [-0.0000,  0.0000, -0.0000, -0.0000,  0.0000],\n",
       "        [ 0.0000, -0.0000,  0.0000,  0.0000,  0.0000],\n",
       "        [ 0.0000,  0.0000, -0.0000,  0.0000, -0.0000],\n",
       "        [-0.0000,  0.0000,  0.0000,  0.0000,  0.0000],\n",
       "        [ 0.0000,  0.0000, -0.0000,  0.0000,  0.0000],\n",
       "        [-0.0000,  0.0000, -0.0000, -0.0000,  0.0000],\n",
       "        [ 0.0000, -0.0000,  0.0000,  0.0000,  0.0000],\n",
       "        [ 0.0000,  0.0000, -0.0000,  0.0000, -0.0000],\n",
       "        [-0.0000,  0.0000,  0.0000,  0.0000,  0.0000],\n",
       "        [ 0.0000,  0.0000, -0.0000,  0.0000,  0.0000],\n",
       "        [-0.0000,  0.0000, -0.0000, -0.0000,  0.0000],\n",
       "        [ 0.0000, -0.0000,  0.0000,  0.0000,  0.0000],\n",
       "        [ 0.0000,  0.0000, -0.0000,  0.0000, -0.0000],\n",
       "        [-0.0000,  0.0000,  0.0000,  0.0000,  0.0000],\n",
       "        [ 0.0000,  0.0000, -0.0000,  0.0000,  0.0000],\n",
       "        [-0.0000,  0.0000, -0.0000, -0.0000,  0.0000],\n",
       "        [ 0.0274, -0.1646,  0.0798,  0.0085,  0.1350],\n",
       "        [ 0.2544,  0.0736, -0.1188,  0.0087, -0.1510],\n",
       "        [-0.1349,  0.0283,  0.0278,  0.0547,  0.2089],\n",
       "        [ 0.0784,  0.1335, -0.1421,  0.0687,  0.1608],\n",
       "        [-0.1812,  0.0753, -0.1624, -0.2339,  0.0195],\n",
       "        [ 0.0000, -0.0000,  0.0000,  0.0000,  0.0000],\n",
       "        [ 0.0000,  0.0000, -0.0000,  0.0000, -0.0000],\n",
       "        [-0.0000,  0.0000,  0.0000,  0.0000,  0.0000],\n",
       "        [ 0.0000,  0.0000, -0.0000,  0.0000,  0.0000],\n",
       "        [-0.0000,  0.0000, -0.0000, -0.0000,  0.0000],\n",
       "        [ 0.0000, -0.0000,  0.0000,  0.0000,  0.0000],\n",
       "        [ 0.0000,  0.0000, -0.0000,  0.0000, -0.0000],\n",
       "        [-0.0000,  0.0000,  0.0000,  0.0000,  0.0000],\n",
       "        [ 0.0000,  0.0000, -0.0000,  0.0000,  0.0000],\n",
       "        [-0.0000,  0.0000, -0.0000, -0.0000,  0.0000],\n",
       "        [ 0.0000, -0.0000,  0.0000,  0.0000,  0.0000],\n",
       "        [ 0.0000,  0.0000, -0.0000,  0.0000, -0.0000],\n",
       "        [-0.0000,  0.0000,  0.0000,  0.0000,  0.0000],\n",
       "        [ 0.0000,  0.0000, -0.0000,  0.0000,  0.0000],\n",
       "        [-0.0000,  0.0000, -0.0000, -0.0000,  0.0000],\n",
       "        [ 0.0000, -0.0000,  0.0000,  0.0000,  0.0000],\n",
       "        [ 0.0000,  0.0000, -0.0000,  0.0000, -0.0000],\n",
       "        [-0.0000,  0.0000,  0.0000,  0.0000,  0.0000],\n",
       "        [ 0.0000,  0.0000, -0.0000,  0.0000,  0.0000],\n",
       "        [-0.0000,  0.0000, -0.0000, -0.0000,  0.0000],\n",
       "        [ 0.0000, -0.0000,  0.0000,  0.0000,  0.0000],\n",
       "        [ 0.0000,  0.0000, -0.0000,  0.0000, -0.0000],\n",
       "        [-0.0000,  0.0000,  0.0000,  0.0000,  0.0000],\n",
       "        [ 0.0000,  0.0000, -0.0000,  0.0000,  0.0000],\n",
       "        [-0.0000,  0.0000, -0.0000, -0.0000,  0.0000],\n",
       "        [ 0.0274, -0.1646,  0.0798,  0.0085,  0.1350],\n",
       "        [ 0.2544,  0.0736, -0.1188,  0.0087, -0.1510],\n",
       "        [-0.1349,  0.0283,  0.0278,  0.0547,  0.2089],\n",
       "        [ 0.0784,  0.1335, -0.1421,  0.0687,  0.1608],\n",
       "        [-0.1812,  0.0753, -0.1624, -0.2339,  0.0195],\n",
       "        [ 0.0000, -0.0000,  0.0000,  0.0000,  0.0000],\n",
       "        [ 0.0000,  0.0000, -0.0000,  0.0000, -0.0000],\n",
       "        [-0.0000,  0.0000,  0.0000,  0.0000,  0.0000],\n",
       "        [ 0.0000,  0.0000, -0.0000,  0.0000,  0.0000],\n",
       "        [-0.0000,  0.0000, -0.0000, -0.0000,  0.0000],\n",
       "        [ 0.0000, -0.0000,  0.0000,  0.0000,  0.0000],\n",
       "        [ 0.0000,  0.0000, -0.0000,  0.0000, -0.0000],\n",
       "        [-0.0000,  0.0000,  0.0000,  0.0000,  0.0000],\n",
       "        [ 0.0000,  0.0000, -0.0000,  0.0000,  0.0000],\n",
       "        [-0.0000,  0.0000, -0.0000, -0.0000,  0.0000],\n",
       "        [ 0.0000, -0.0000,  0.0000,  0.0000,  0.0000],\n",
       "        [ 0.0000,  0.0000, -0.0000,  0.0000, -0.0000],\n",
       "        [-0.0000,  0.0000,  0.0000,  0.0000,  0.0000],\n",
       "        [ 0.0000,  0.0000, -0.0000,  0.0000,  0.0000],\n",
       "        [-0.0000,  0.0000, -0.0000, -0.0000,  0.0000],\n",
       "        [ 0.0000, -0.0000,  0.0000,  0.0000,  0.0000],\n",
       "        [ 0.0000,  0.0000, -0.0000,  0.0000, -0.0000],\n",
       "        [-0.0000,  0.0000,  0.0000,  0.0000,  0.0000],\n",
       "        [ 0.0000,  0.0000, -0.0000,  0.0000,  0.0000],\n",
       "        [-0.0000,  0.0000, -0.0000, -0.0000,  0.0000],\n",
       "        [ 0.0000, -0.0000,  0.0000,  0.0000,  0.0000],\n",
       "        [ 0.0000,  0.0000, -0.0000,  0.0000, -0.0000],\n",
       "        [-0.0000,  0.0000,  0.0000,  0.0000,  0.0000],\n",
       "        [ 0.0000,  0.0000, -0.0000,  0.0000,  0.0000],\n",
       "        [-0.0000,  0.0000, -0.0000, -0.0000,  0.0000],\n",
       "        [ 0.0274, -0.1646,  0.0798,  0.0085,  0.1350],\n",
       "        [ 0.2544,  0.0736, -0.1188,  0.0087, -0.1510],\n",
       "        [-0.1349,  0.0283,  0.0278,  0.0547,  0.2089],\n",
       "        [ 0.0784,  0.1335, -0.1421,  0.0687,  0.1608],\n",
       "        [-0.1812,  0.0753, -0.1624, -0.2339,  0.0195],\n",
       "        [ 0.0000, -0.0000,  0.0000,  0.0000,  0.0000],\n",
       "        [ 0.0000,  0.0000, -0.0000,  0.0000, -0.0000],\n",
       "        [-0.0000,  0.0000,  0.0000,  0.0000,  0.0000],\n",
       "        [ 0.0000,  0.0000, -0.0000,  0.0000,  0.0000],\n",
       "        [-0.0000,  0.0000, -0.0000, -0.0000,  0.0000],\n",
       "        [ 0.0000, -0.0000,  0.0000,  0.0000,  0.0000],\n",
       "        [ 0.0000,  0.0000, -0.0000,  0.0000, -0.0000],\n",
       "        [-0.0000,  0.0000,  0.0000,  0.0000,  0.0000],\n",
       "        [ 0.0000,  0.0000, -0.0000,  0.0000,  0.0000],\n",
       "        [-0.0000,  0.0000, -0.0000, -0.0000,  0.0000],\n",
       "        [ 0.0000, -0.0000,  0.0000,  0.0000,  0.0000],\n",
       "        [ 0.0000,  0.0000, -0.0000,  0.0000, -0.0000],\n",
       "        [-0.0000,  0.0000,  0.0000,  0.0000,  0.0000],\n",
       "        [ 0.0000,  0.0000, -0.0000,  0.0000,  0.0000],\n",
       "        [-0.0000,  0.0000, -0.0000, -0.0000,  0.0000],\n",
       "        [ 0.0000, -0.0000,  0.0000,  0.0000,  0.0000],\n",
       "        [ 0.0000,  0.0000, -0.0000,  0.0000, -0.0000],\n",
       "        [-0.0000,  0.0000,  0.0000,  0.0000,  0.0000],\n",
       "        [ 0.0000,  0.0000, -0.0000,  0.0000,  0.0000],\n",
       "        [-0.0000,  0.0000, -0.0000, -0.0000,  0.0000],\n",
       "        [ 0.0000, -0.0000,  0.0000,  0.0000,  0.0000],\n",
       "        [ 0.0000,  0.0000, -0.0000,  0.0000, -0.0000],\n",
       "        [-0.0000,  0.0000,  0.0000,  0.0000,  0.0000],\n",
       "        [ 0.0000,  0.0000, -0.0000,  0.0000,  0.0000],\n",
       "        [-0.0000,  0.0000, -0.0000, -0.0000,  0.0000],\n",
       "        [ 0.0274, -0.1646,  0.0798,  0.0085,  0.1350],\n",
       "        [ 0.2544,  0.0736, -0.1188,  0.0087, -0.1510],\n",
       "        [-0.1349,  0.0283,  0.0278,  0.0547,  0.2089],\n",
       "        [ 0.0784,  0.1335, -0.1421,  0.0687,  0.1608],\n",
       "        [-0.1812,  0.0753, -0.1624, -0.2339,  0.0195]], dtype=torch.float64)"
      ]
     },
     "execution_count": 14,
     "metadata": {},
     "output_type": "execute_result"
    }
   ],
   "source": [
    "get_A_matrix(1,signature_test,2,5)"
   ]
  },
  {
   "cell_type": "code",
   "execution_count": 24,
   "metadata": {},
   "outputs": [],
   "source": [
    "def solve_optimization_problem(signature,signature_next_step,p,n,dimension):\n",
    "    \n",
    "    '''This function solves the optimization problem that allows to approximate the signature \n",
    "        of the path. \n",
    "        \n",
    "        Arguments:\n",
    "            - n : order at which the signature is taken.\n",
    "            - signature : full signature at order n.\n",
    "            - signature_next_step : full signature at order n+1 (!).\n",
    "            - p : insertion spot, determinates the time interval on which the derivative is approximated. \n",
    "            - dimension : dimension of the path.\n",
    "    '''\n",
    "    \n",
    "    #Create A matrix and b vector used in the optimization problem. \n",
    "    \n",
    "    A_matrix = np.array(get_A_matrix(p,signature,n,dimension))\n",
    "    \n",
    "    b_vector = math.factorial(n+1)*np.array(signatory.extract_signature_term(signature_next_step,dimension,int(n+1)))\n",
    "    \n",
    "    b_vector = b_vector.flatten()\n",
    "    \n",
    "    #SVD \n",
    "    \n",
    "    U,Sigma,V = np.linalg.svd(A_matrix,full_matrices=True)\n",
    "    \n",
    "    Y = U@b_vector \n",
    "    \n",
    "    #Only take the d-first values of Y\n",
    "    \n",
    "    Y = Y[0:dimension]\n",
    "    \n",
    "    #Compute optimal x\n",
    "    \n",
    "    x = (1/np.linalg.norm(Y))*Y\n",
    "    \n",
    "    x_optimal = (V.T)@(V)@x\n",
    "    \n",
    "    return x_optimal  "
   ]
  },
  {
   "cell_type": "code",
   "execution_count": 16,
   "metadata": {},
   "outputs": [
    {
     "data": {
      "text/plain": [
       "array([ 0.66313191, -0.46866107,  0.05369501,  0.53164938,  0.23468842])"
      ]
     },
     "execution_count": 16,
     "metadata": {},
     "output_type": "execute_result"
    }
   ],
   "source": [
    "signature = signatory.signature(test_path, 2)\n",
    "signature_next = signatory.signature(test_path,3)\n",
    "\n",
    "solve_optimization_problem(signature, signature_next,p=2,n=2,dimension=5)"
   ]
  },
  {
   "cell_type": "markdown",
   "metadata": {},
   "source": [
    "## Tests"
   ]
  },
  {
   "cell_type": "markdown",
   "metadata": {},
   "source": [
    "### Tests on semi-circle "
   ]
  },
  {
   "cell_type": "code",
   "execution_count": 17,
   "metadata": {},
   "outputs": [
    {
     "name": "stdout",
     "output_type": "stream",
     "text": [
      "[0.  0.1 0.2 0.3 0.4 0.5 0.6 0.7 0.8 0.9 1. ]\n"
     ]
    },
    {
     "data": {
      "image/png": "[encoded data removed]",
      "text/plain": [
       "<Figure size 432x288 with 1 Axes>"
      ]
     },
     "metadata": {},
     "output_type": "display_data"
    }
   ],
   "source": [
    "points = np.arange(0,1.1,0.1)\n",
    "\n",
    "print(points)\n",
    "\n",
    "x1 = 1/(math.pi)*np.cos(math.pi*points)\n",
    "\n",
    "x2 = 1/(math.pi)*np.sin(math.pi*points)\n",
    "\n",
    "sns.set_style('whitegrid')\n",
    "\n",
    "plt.plot(x1,x2,linestyle='-',marker='o')\n",
    "plt.show()"
   ]
  },
  {
   "cell_type": "code",
   "execution_count": 25,
   "metadata": {},
   "outputs": [
    {
     "data": {
      "image/png": "[encoded data removed]",
      "text/plain": [
       "<Figure size 432x288 with 1 Axes>"
      ]
     },
     "metadata": {},
     "output_type": "display_data"
    }
   ],
   "source": [
    "path = torch.tensor(np.array((x1,x2)).T)\n",
    "\n",
    "k=10\n",
    "\n",
    "signature = signatory.signature(path.unsqueeze(0), k)\n",
    "signature_next = signatory.signature(path.unsqueeze(0), k+1)\n",
    "\n",
    "reconstructed_path_derivatives = np.zeros(shape=(2,k))\n",
    "\n",
    "reconstructed_path = np.zeros(shape=(2,k+1))\n",
    "\n",
    "for p in np.arange(1,k+1):\n",
    "\n",
    "    x_optimal = solve_optimization_problem(signature, signature_next,p,n=k,dimension=2)\n",
    "    \n",
    "    reconstructed_path_derivatives[:,p-1] = x_optimal \n",
    "    \n",
    "    reconstructed_path[:,p] = reconstructed_path[:,p-1] + reconstructed_path_derivatives[:,p-1]*(1/k)\n",
    "    \n",
    "plt.plot(reconstructed_path[0,:],reconstructed_path[1,:],c='blue',marker='o')\n",
    "plt.plot(x1,x2,linestyle='-',marker='o',c='yellow')\n",
    "plt.show()\n",
    "    "
   ]
  },
  {
   "cell_type": "code",
   "execution_count": null,
   "metadata": {},
   "outputs": [],
   "source": []
  },
  {
   "cell_type": "code",
   "execution_count": null,
   "metadata": {},
   "outputs": [],
   "source": []
  },
  {
   "cell_type": "code",
   "execution_count": null,
   "metadata": {},
   "outputs": [],
   "source": []
  }
 ],
 "metadata": {
  "kernelspec": {
   "display_name": "Python 3",
   "language": "python",
   "name": "python3"
  },
  "language_info": {
   "codemirror_mode": {
    "name": "ipython",
    "version": 3
   },
   "file_extension": ".py",
   "mimetype": "text/x-python",
   "name": "python",
   "nbconvert_exporter": "python",
   "pygments_lexer": "ipython3",
   "version": "3.7.7"
  }
 },
 "nbformat": 4,
 "nbformat_minor": 4
}
