{
 "cells": [
  {
   "cell_type": "markdown",
   "metadata": {},
   "source": [
    "# A WGAN generating fake MNIST signatures"
   ]
  },
  {
   "cell_type": "code",
   "execution_count": 27,
   "metadata": {},
   "outputs": [],
   "source": [
    "%matplotlib inline\n",
    "\n",
    "import numpy as np\n",
    "import scipy.io as sio\n",
    "import pandas as pd\n",
    "import math \n",
    "import matplotlib.pyplot as plt\n",
    "import matplotlib\n",
    "import seaborn as sns \n",
    "import sys \n",
    "import torch \n",
    "import torch.nn as nn\n",
    "import torch.optim as optim\n",
    "import torch.nn.functional as F\n",
    "from torch import autograd\n",
    "from torch.autograd import Variable\n",
    "import iisignature as signature\n",
    "\n",
    "from tools import generateur_donnees, generate_noise, extrapolate_signature, gradient_penalty, extrapolate_multiple_signatures\n",
    "from WGAN import *\n",
    "from Training_loop_MNIST import train_MNIST\n",
    "from MNIST_Plots import plot_training_results\n",
    "\n",
    "from get_MNIST_sig import MNIST_sigs\n",
    "\n",
    "\n",
    "import os, sys\n",
    "sys.path.append(os.path.dirname(os.getcwd()))\n",
    "\n",
    "os.environ['KMP_DUPLICATE_LIB_OK']='True'\n",
    "\n"
   ]
  },
  {
   "cell_type": "markdown",
   "metadata": {},
   "source": [
    "## Import trained model Training "
   ]
  },
  {
   "cell_type": "markdown",
   "metadata": {},
   "source": [
    "This WGAN-GP tries to mimic signatures of MNIST handdrawn PenDigits. Training is done in a separate Python script to avoid kernel collapse.  "
   ]
  },
  {
   "cell_type": "code",
   "execution_count": 29,
   "metadata": {},
   "outputs": [
    {
     "data": {
      "text/plain": [
       "<All keys matched successfully>"
      ]
     },
     "execution_count": 29,
     "metadata": {},
     "output_type": "execute_result"
    }
   ],
   "source": [
    "noise_size = 8\n",
    "sigorder=10\n",
    "name='generator_int_3_sigorder_10_iterations_100'\n",
    "signature_length = signature.siglength(2,sigorder)\n",
    "\n",
    "WGAN = generateur_small(noise_size,248,signature_length)\n",
    "\n",
    "#Change path to choose the model you want to load \n",
    "\n",
    "WGAN.load_state_dict(torch.load('trained_models/%s' % (name)))"
   ]
  },
  {
   "cell_type": "code",
   "execution_count": 30,
   "metadata": {},
   "outputs": [],
   "source": [
    "#Import true signatures \n",
    "\n",
    "true_data,nothing = MNIST_sigs(3,8)\n",
    "true_data = true_data[np.random.choice(np.arange(500),10)]"
   ]
  },
  {
   "cell_type": "markdown",
   "metadata": {},
   "source": [
    "## Visualising the training results"
   ]
  },
  {
   "cell_type": "code",
   "execution_count": 31,
   "metadata": {},
   "outputs": [
    {
     "ename": "NameError",
     "evalue": "name 'erreur_discrim_sur_true' is not defined",
     "output_type": "error",
     "traceback": [
      "\u001b[0;31m---------------------------------------------------------------------------\u001b[0m",
      "\u001b[0;31mNameError\u001b[0m                                 Traceback (most recent call last)",
      "\u001b[0;32m<ipython-input-31-3c7f169f4279>\u001b[0m in \u001b[0;36m<module>\u001b[0;34m\u001b[0m\n\u001b[1;32m      9\u001b[0m \u001b[0moutput_fake\u001b[0m \u001b[0;34m=\u001b[0m \u001b[0moutput_fake\u001b[0m\u001b[0;34m.\u001b[0m\u001b[0mdetach\u001b[0m\u001b[0;34m(\u001b[0m\u001b[0;34m)\u001b[0m\u001b[0;34m.\u001b[0m\u001b[0mnumpy\u001b[0m\u001b[0;34m(\u001b[0m\u001b[0;34m)\u001b[0m\u001b[0;34m\u001b[0m\u001b[0;34m\u001b[0m\u001b[0m\n\u001b[1;32m     10\u001b[0m \u001b[0;34m\u001b[0m\u001b[0m\n\u001b[0;32m---> 11\u001b[0;31m \u001b[0mplot_training_results\u001b[0m\u001b[0;34m(\u001b[0m\u001b[0mfake_sig\u001b[0m \u001b[0;34m=\u001b[0m \u001b[0moutput_fake\u001b[0m\u001b[0;34m,\u001b[0m \u001b[0mtrue_sig\u001b[0m \u001b[0;34m=\u001b[0m \u001b[0mtrue_data\u001b[0m\u001b[0;34m,\u001b[0m\u001b[0merreur_discrim_sur_true\u001b[0m\u001b[0;34m=\u001b[0m\u001b[0merreur_discrim_sur_true\u001b[0m\u001b[0;34m,\u001b[0m\u001b[0mtest_noise_size\u001b[0m \u001b[0;34m=\u001b[0m \u001b[0mtest_noise_size\u001b[0m\u001b[0;34m,\u001b[0m\u001b[0mgradient\u001b[0m\u001b[0;34m=\u001b[0m\u001b[0mgradient\u001b[0m\u001b[0;34m)\u001b[0m\u001b[0;34m\u001b[0m\u001b[0;34m\u001b[0m\u001b[0m\n\u001b[0m",
      "\u001b[0;31mNameError\u001b[0m: name 'erreur_discrim_sur_true' is not defined"
     ]
    }
   ],
   "source": [
    "test_noise_size = 10\n",
    "\n",
    "noise_size = 8\n",
    "\n",
    "new_noise = torch.normal(mean = torch.zeros(test_noise_size,noise_size)).float()\n",
    "\n",
    "output_fake = WGAN.forward(new_noise)\n",
    "\n",
    "output_fake = output_fake.detach().numpy()\n",
    "\n",
    "plot_training_results(fake_sig = output_fake, true_sig = true_data,erreur_discrim_sur_true=erreur_discrim_sur_true,test_noise_size = test_noise_size,gradient=gradient)"
   ]
  },
  {
   "cell_type": "markdown",
   "metadata": {},
   "source": [
    "## Export fake signatures for further use"
   ]
  },
  {
   "cell_type": "code",
   "execution_count": 32,
   "metadata": {},
   "outputs": [],
   "source": [
    "#Export fake signatures to csv file \n",
    "\n",
    "new_noise = torch.normal(mean = torch.zeros(1000,noise_size)).float()\n",
    "\n",
    "fake_sig = WGAN(new_noise)\n",
    "\n",
    "fake_sig = fake_sig.detach().numpy()"
   ]
  },
  {
   "cell_type": "code",
   "execution_count": 33,
   "metadata": {},
   "outputs": [],
   "source": [
    "pd.DataFrame(fake_sig).to_csv(\"%s.csv\"%(name), header = None)"
   ]
  },
  {
   "cell_type": "code",
   "execution_count": 34,
   "metadata": {},
   "outputs": [
    {
     "name": "stdout",
     "output_type": "stream",
     "text": [
      "[[-1.1737350e-01 -2.4080774e-01  1.5509447e-02 ... -1.3300184e-02\n",
      "  -1.6147776e-02 -1.5702579e-02]\n",
      " [-9.4619080e-02 -2.2760266e-01  1.6163757e-02 ... -1.7938800e-02\n",
      "  -2.3293737e-03 -1.5239637e-02]\n",
      " [-1.2168618e-01 -2.3334315e-01  1.7625751e-02 ... -1.0433499e-02\n",
      "  -1.1760289e-02 -1.0674510e-02]\n",
      " ...\n",
      " [-1.8377402e-01 -3.1965730e-01  3.9983451e-02 ... -5.3692609e-05\n",
      "   1.0267157e-02  4.1864060e-02]\n",
      " [-1.3227503e-01 -2.5496987e-01  2.9608496e-03 ...  5.6665577e-03\n",
      "  -1.9331047e-02  1.7512059e-02]\n",
      " [-2.3590977e-01 -4.7843596e-01  6.7254491e-02 ...  1.9593518e-02\n",
      "   7.6396890e-02 -6.3617162e-02]]\n"
     ]
    }
   ],
   "source": [
    "print(fake_sig)"
   ]
  },
  {
   "cell_type": "code",
   "execution_count": 35,
   "metadata": {},
   "outputs": [],
   "source": [
    "from insertion import invert_signature"
   ]
  },
  {
   "cell_type": "code",
   "execution_count": 38,
   "metadata": {},
   "outputs": [
    {
     "name": "stdout",
     "output_type": "stream",
     "text": [
      "Elapsed time for getting A 0.11075186729431152\n",
      "Elapsed time for svd 0.011799097061157227\n",
      "Elapsed time for getting A 0.09872794151306152\n",
      "Elapsed time for svd 0.011990070343017578\n",
      "Elapsed time for getting A 0.09826827049255371\n",
      "Elapsed time for svd 0.014903068542480469\n",
      "Elapsed time for getting A 0.09749031066894531\n",
      "Elapsed time for svd 0.011753082275390625\n",
      "Elapsed time for getting A 0.10095477104187012\n",
      "Elapsed time for svd 0.014886856079101562\n",
      "Elapsed time for getting A 0.1031339168548584\n",
      "Elapsed time for svd 0.009350061416625977\n",
      "Elapsed time for getting A 0.10609102249145508\n",
      "Elapsed time for svd 0.009227991104125977\n",
      "Elapsed time for getting A 0.09566497802734375\n",
      "Elapsed time for svd 0.011921882629394531\n",
      "Elapsed time for getting A 0.09788393974304199\n",
      "Elapsed time for svd 0.01270604133605957\n",
      "Elapsed time for getting A 0.09704709053039551\n",
      "Elapsed time for svd 0.011923789978027344\n"
     ]
    }
   ],
   "source": [
    "sample_sig=fake_sig[0,:]\n",
    "fake_path=invert_signature(torch.tensor(sample_sig).view(1,-1),sigorder-1,0,2)"
   ]
  },
  {
   "cell_type": "code",
   "execution_count": 39,
   "metadata": {},
   "outputs": [
    {
     "data": {
      "text/plain": [
       "[<matplotlib.lines.Line2D at 0x12aea7910>]"
      ]
     },
     "execution_count": 39,
     "metadata": {},
     "output_type": "execute_result"
    },
    {
     "data": {
      "image/png": "[encoded data removed]",
      "text/plain": [
       "<Figure size 432x288 with 1 Axes>"
      ]
     },
     "metadata": {
      "needs_background": "light"
     },
     "output_type": "display_data"
    }
   ],
   "source": [
    "plt.plot(-fake_path[:,0],fake_path[:,1])"
   ]
  },
  {
   "cell_type": "code",
   "execution_count": null,
   "metadata": {},
   "outputs": [],
   "source": []
  }
 ],
 "metadata": {
  "kernelspec": {
   "display_name": "Python 3",
   "language": "python",
   "name": "python3"
  },
  "language_info": {
   "codemirror_mode": {
    "name": "ipython",
    "version": 3
   },
   "file_extension": ".py",
   "mimetype": "text/x-python",
   "name": "python",
   "nbconvert_exporter": "python",
   "pygments_lexer": "ipython3",
   "version": "3.7.7"
  }
 },
 "nbformat": 4,
 "nbformat_minor": 4
}
